{
  "cells": [
    {
      "cell_type": "code",
      "execution_count": 148,
      "metadata": {
        "id": "QCCDbdLa4Szo"
      },
      "outputs": [],
      "source": [
        "from typing import List, Sequence\n",
        "import math\n",
        "import numpy as np"
      ]
    },
    {
      "cell_type": "markdown",
      "metadata": {
        "id": "Gc-WiVeKxduF"
      },
      "source": [
        "- Problema 1: Penalty \n",
        "\n",
        "<img src=\"figs/penaulty1.jpg\" width=\"600\"  alt=\"Superfície mínima linear\">"
      ]
    },
    {
      "cell_type": "code",
      "execution_count": 149,
      "metadata": {
        "id": "GatolNP-K90a"
      },
      "outputs": [],
      "source": [
        "def Penalti(x, a, b):\n",
        "    # Somatório de (xi - 1)^2 para i = 1...n\n",
        "    term1 = a * sum((xi - 1)**2 for xi in x)\n",
        "\n",
        "    # Somatório de xi^2\n",
        "    sum_x2 = sum(xi**2 for xi in x)\n",
        "\n",
        "    # Aplicando toda a expressão\n",
        "    term2 = b * (sum_x2 - 0.25)**2\n",
        "\n",
        "    return term1 + term2\n",
        "\n",
        "# Utilizar a = 1 e b = 10^-3\n",
        "#link do paper, página 29 do paper e 32 do pdf: https://apps.dtic.mil/sti/tr/pdf/ADA078713.pdf"
      ]
    },
    {
      "cell_type": "markdown",
      "metadata": {
        "id": "G3LwZ0gOytQA"
      },
      "source": [
        "- Os problemas abaixo esão disponíveis no paper, a partir da página 11 do pdf (27 do paper)\n",
        "\n",
        "https://dl.acm.org/doi/pdf/10.1145/355934.355936"
      ]
    },
    {
      "cell_type": "markdown",
      "metadata": {
        "id": "zlRiwHyOykHw"
      },
      "source": [
        "- Problema 2: Trigonometric\n",
        "\n",
        "<img src=\"figs/trigonometric.jpg\" width=\"600\"  alt=\"Trignomometric\">"
      ]
    },
    {
      "cell_type": "code",
      "execution_count": 150,
      "metadata": {
        "id": "BPDsCJJWym_w"
      },
      "outputs": [],
      "source": [
        "def trigonometric(x):\n",
        "    \"\"\"\n",
        "    Função trigonométrica vetorial.\n",
        "    x: lista ou vetor de tamanho n\n",
        "    retorna: lista com f(x)\n",
        "    \"\"\"\n",
        "    n = len(x)\n",
        "    soma = sum(math.cos(xj) for xj in x)\n",
        "    f = []\n",
        "    for i in range(n):\n",
        "        fi = n - soma + (i+1)*(1 - math.cos(x[i])) - math.sin(x[i])\n",
        "        f.append(fi)\n",
        "    return np.array(f)\n",
        "\n",
        "# x0 = [1/n, ..., 1/n]\n",
        "# Mínimo = f=0\n",
        "\n",
        "# Definindo a funçao objetivo (o L-BFGS-B exige que seja uma funçao escalar, e a trigonometrica retorna um vetor)\n",
        "def trigonometric_ext_objective(x):\n",
        "  fx = trigonometric(x)\n",
        "  return np.dot(fx, fx) # ||f(x)||²"
      ]
    },
    {
      "cell_type": "markdown",
      "metadata": {
        "id": "5Tc8G-tg2Npl"
      },
      "source": [
        "Se f(x) = 0 (o ponto que você quer), então objective(x) = 0.\n",
        "\n",
        "Se f(x) não for zero, objective(x) será positivo e vai indicar “quão longe” você está da solução.\n",
        "\n",
        "Assim, o minimize pode buscar o x que faz objective(x) ser mínimo → ou seja, que faz f(x) ficar o mais próximo de zero possível."
      ]
    },
    {
      "cell_type": "markdown",
      "metadata": {
        "id": "dyMjLX69y_vE"
      },
      "source": [
        "- Problema 3: Extended Rosenbrock\n",
        "\n",
        "<img src=\"figs/extendeRosembrock.png\" width=\"600\"  alt=\"ExtendentRosembrock\">"
      ]
    },
    {
      "cell_type": "code",
      "execution_count": 151,
      "metadata": {
        "id": "dYw8P-VRy_Km"
      },
      "outputs": [],
      "source": [
        "def rosenbrock_ext_residuals(x: List[float]) -> List[float]:\n",
        "    n = len(x)\n",
        "    assert n % 2 == 0, \"n deve ser par\" # Para armezenar os residuos da funçao em pares, é necessário que seja par\n",
        "    m = n // 2\n",
        "    r = [0.0] * n\n",
        "    for k in range(m):\n",
        "        i = 2*k      # índice 0-based de x_{2k-1}\n",
        "        r[2*k]   = 10.0 * (x[i+1] - x[i]**2)   # r_{2k-1}\n",
        "        r[2*k+1] = 1.0 - x[i]                  # r_{2k}\n",
        "    return np.array(r)\n",
        "\n",
        "def rosenbrock_ext_objective(x: List[float]) -> float:\n",
        "    r = rosenbrock_ext_residuals(x)\n",
        "    return np.dot(r,r) # ||r||²\n",
        "\n",
        "# Minimo = f=0 na origem"
      ]
    },
    {
      "cell_type": "markdown",
      "metadata": {
        "id": "KrUL5xg62b9-"
      },
      "source": [
        "- Problema 4: Extended Powell\n",
        "\n",
        "<img src=\"figs/extendedPowell.jpg\" width=\"600\"  alt=\"Extended Powell\">"
      ]
    },
    {
      "cell_type": "code",
      "execution_count": 152,
      "metadata": {
        "id": "RUOVnyVX2f98"
      },
      "outputs": [],
      "source": [
        "def powell_singular_residuals(x: List[float]) -> List[float]:\n",
        "    \"\"\"\n",
        "    Calcula os resíduos da Extended Powell Singular Function.\n",
        "    x: lista de tamanho n (deve ser múltiplo de 4)\n",
        "    retorna: lista de resíduos r_j\n",
        "    \"\"\"\n",
        "    n = len(x)\n",
        "    assert n % 4 == 0, \"O tamanho de x deve ser múltiplo de 4\"\n",
        "    m = n // 4\n",
        "    r = [0.0] * n\n",
        "\n",
        "    for i in range(m):\n",
        "        # índices do bloco (0-based)\n",
        "        i1 = 4*i\n",
        "        i2 = i1 + 1\n",
        "        i3 = i1 + 2\n",
        "        i4 = i1 + 3\n",
        "\n",
        "        r[i1] = x[i1] + 10 * x[i2]                 # f_{4i-3}\n",
        "        r[i2] = (5**0.5) * (x[i3] - x[i4])         # f_{4i-2}\n",
        "        r[i3] = (x[i2] - 2*x[i3])**2               # f_{4i-1}\n",
        "        r[i4] = (10**0.5) * (x[i1] - x[i4])**2     # f_{4i}\n",
        "\n",
        "    return np.array(r)\n",
        "\n",
        "def powell_singular_ext_objective(x: List[float]) -> float:\n",
        "    \"\"\"\n",
        "    Função objetivo: soma dos quadrados dos resíduos.\n",
        "    \"\"\"\n",
        "    r = powell_singular_residuals(x)\n",
        "    return np.dot(r,r) # ||r||²\n",
        "\n",
        "# minimo = f=0 na origem"
      ]
    },
    {
      "cell_type": "markdown",
      "metadata": {
        "id": "DJ_aLb6GBS_o"
      },
      "source": [
        "- As tabelas abaixo e as funções estão disponíveis no artigo abaixo, a partir da página 4 do pdf (843 do paper):\n",
        "https://www.ams.org/journals/mcom/1978-32-143/S0025-5718-1978-0483452-7/S0025-5718-1978-0483452-7.pdf"
      ]
    },
    {
      "cell_type": "code",
      "execution_count": 153,
      "metadata": {
        "id": "H88ySaBV7K9D"
      },
      "outputs": [],
      "source": [
        "a = [\n",
        "    1.25, 1.40, 2.40, 1.40, 1.75, 1.20, 2.25, 1.20, 1.00, 1.10,\n",
        "    1.50, 1.60, 1.25, 1.25, 1.20, 1.20, 1.40, 0.50, 0.50, 1.25,\n",
        "    1.80, 0.75, 1.25, 1.40, 1.60, 2.00, 1.00, 1.60, 1.25, 2.75,\n",
        "    1.25, 1.25, 1.25, 3.00, 1.50, 2.00, 1.25, 1.40, 1.80, 1.50,\n",
        "    2.20, 1.40, 1.50, 1.25, 2.00, 1.50, 1.25, 1.40, 0.60, 1.50\n",
        "]\n",
        "\n",
        "B = [\n",
        "    1.0, 1.5, 1.0, 0.1, 1.5, 2.0, 1.0, 1.5, 3.0, 2.0,\n",
        "    1.0, 3.0, 0.1, 1.5, 0.15, 2.0, 1.0, 0.1, 3.0, 0.1,\n",
        "    1.2, 1.0, 0.1, 2.0, 1.2, 3.0, 1.5, 3.0, 2.0, 1.0,\n",
        "    1.2, 2.0, 1.0\n",
        "]\n",
        "\n",
        "d = [\n",
        "    5.0, 5.0, 5.0, 2.5, 6.0, 6.0, 5.0, 6.0, 10.0, 6.0,\n",
        "    5.0, 9.0, 2.0, 7.0, 2.5, 6.0, 5.0, 2.0, 9.0, 2.0,\n",
        "    5.0, 5.0, 2.5, 5.0, 6.0, 10.0, 7.0, 10.0, 6.0, 5.0,\n",
        "    4.0, 4.0, 4.0\n",
        "]\n",
        "\n",
        "A_sets = [\n",
        "    [31], [1], [2], [4], [6], [8], [10], [12], [11,13,14], [16],\n",
        "    [9,18], [5,20,21], [19], [23], [7,25], [28], [29], [32], [3,33], [35],\n",
        "    [36], [30,37], [38,39], [40], [41], [44], [46], [42,45,48,50], [26,34,43], [15,17,24,47],\n",
        "    [49], [22], [27]\n",
        "]\n",
        "\n",
        "B_sets = [\n",
        "    [1], [2,3], [4,5], [6,7], [8,9], [10,11], [12,13], [14,15], [16,17], [18,19],\n",
        "     [20], [], [22, 23, 24], [25,26], [27,28], [29,30], [31,32], [33,34], [35], [21,36],\n",
        "    [37,38], [39], [40], [41,42], [43,44,50], [45,46,47], [48], [49], [], [],\n",
        "    [], [], []\n",
        "\n",
        "]\n",
        "\n",
        "# Convertendo os conjuntos para indices 0-based. Dessa forma, o numero [50] agora é [49] (estava tendo problemas de indices)\n",
        "A_sets = [[j-1 for j in s] for s in A_sets]\n",
        "B_sets = [[j-1 for j in s] for s in B_sets]"
      ]
    },
    {
      "cell_type": "markdown",
      "metadata": {
        "id": "5se9mJWWx7xO"
      },
      "source": [
        "- Problema 6: QOR\n",
        "\n",
        "<img src=\"figs/QOR.jpg\" width=\"600\"  alt=\"QOR\">"
      ]
    },
    {
      "cell_type": "code",
      "execution_count": 154,
      "metadata": {
        "id": "_8Z0UrRUxc5r"
      },
      "outputs": [],
      "source": [
        "from typing import List, Sequence\n",
        "\n",
        "def f_qor(\n",
        "    x: Sequence[float],\n",
        "    a: Sequence[float],\n",
        "    B: Sequence[float],\n",
        "    d: Sequence[float],\n",
        "    A_sets: List[List[int]],\n",
        "    B_sets: List[List[int]],\n",
        ") -> float:\n",
        "    \"\"\"\n",
        "    x: vetor de variáveis (índices 0-based)\n",
        "    a: coeficientes para i=0..49  (50 itens)\n",
        "    B, d: coeficientes para i=0..32 (33 itens)\n",
        "    A_sets[i], B_sets[i]: listas de índices j (0-based) usados no i-ésimo termo da penalidade\n",
        "    \"\"\"\n",
        "    # 1) sum_{i=1..50} a_i * x_i^2   -> i = 0..49 em Python\n",
        "    term1 = sum(a[i] * (x[i] ** 2) for i in range(50))\n",
        "\n",
        "    # 2) sum_{i=1..33} B_i * [ d_i - sum_{j in A(i)} x_j + sum_{j in B(i)} x_j ]^2\n",
        "    term2 = 0.0\n",
        "    for i in range(33):\n",
        "        inner = d[i] \\\n",
        "              - sum(x[j] for j in A_sets[i]) \\\n",
        "              + sum(x[j] for j in B_sets[i])\n",
        "        term2 += B[i] * (inner ** 2)\n",
        "\n",
        "    return term1 + term2\n",
        "\n",
        "\n",
        "# O ponto inicial é o vetor de zeros\n"
      ]
    },
    {
      "cell_type": "markdown",
      "metadata": {
        "id": "7nwTxzPTz6_L"
      },
      "source": [
        "- Problema 7: GOR\n",
        "\n",
        "<img src=\"figs/GOR.jpg\" width=\"600\"  alt=\"GOR\">"
      ]
    },
    {
      "cell_type": "code",
      "execution_count": 155,
      "metadata": {
        "id": "arUIL8UKz9Pt"
      },
      "outputs": [],
      "source": [
        "import math\n",
        "\n",
        "def c_i(x_i, a_i):\n",
        "    if x_i >= 0:\n",
        "        return a_i * x_i * math.log(1 + x_i)\n",
        "    else:\n",
        "        return -a_i * x_i * math.log(1 - x_i)\n",
        "\n",
        "def b_i(y_i, B_i):\n",
        "    if y_i >= 0:\n",
        "        return B_i * y_i**2 * math.log(1 + y_i)\n",
        "    else:\n",
        "        return B_i * y_i**2\n",
        "\n",
        "def f_gor(x, a, B, d, A_sets, B_sets):\n",
        "    term1 = sum(c_i(x[i], a[i]) for i in range(50))\n",
        "    term2 = 0.0\n",
        "    for i in range(33):\n",
        "        y_i = d[i] - sum(x[j-1] for j in A_sets[i]) + sum(x[j-1] for j in B_sets[i])\n",
        "        term2 += b_i(y_i, B[i])\n",
        "    return term1 + term2\n",
        "\n",
        "# O ponto inicial é o vetor de zeros"
      ]
    },
    {
      "cell_type": "markdown",
      "metadata": {
        "id": "14s6W5Jfs4vb"
      },
      "source": [
        "- Problema 8: PSP\n",
        "\n",
        "<img src=\"figs/PSP.jpg\" width=\"600\"  alt=\"PSP\">"
      ]
    },
    {
      "cell_type": "code",
      "execution_count": 156,
      "metadata": {
        "id": "ZoDDFV1XssxI"
      },
      "outputs": [],
      "source": [
        "def h_i(y_i):\n",
        "    if y_i >= 0.1:\n",
        "        return 1.0 / y_i\n",
        "    else:\n",
        "        return 100.0 * (0.1 - y_i) + 10.0\n",
        "\n",
        "def f_psp(x, a, B, d, A_sets, B_sets):\n",
        "    # Termo 1: soma dos a_i * (x_i - 5)^2 para i = 0..49 ( Python 0-based )\n",
        "    term1 = sum(a[i] * (x[i] - 5.0) ** 2 for i in range(50))\n",
        "\n",
        "    # Termo 2: soma dos B_i * h_i(y_i) para i = 0..32\n",
        "    term2 = 0.0\n",
        "    for i in range(33):\n",
        "        y_i = d[i] \\\n",
        "              - sum(x[j - 1] for j in A_sets[i]) \\\n",
        "              + sum(x[j - 1] for j in B_sets[i])\n",
        "        term2 += B[i] * h_i(y_i)\n",
        "\n",
        "    return term1 + term2\n",
        "\n",
        "# O ponto inicial é o vetor de zeros"
      ]
    },
    {
      "cell_type": "markdown",
      "metadata": {},
      "source": [
        "- Problema 9: Tridiagonal\n",
        "\n",
        "<img src=\"figs/tridiagonal.jpg\" width=\"600\"  alt=\"Tridiagonal\">"
      ]
    },
    {
      "cell_type": "code",
      "execution_count": 157,
      "metadata": {},
      "outputs": [],
      "source": [
        "def tridia_objective(x):\n",
        "\n",
        "    n = len(x)\n",
        "    \n",
        "    # Primeiro termo: (x1 - 1)^2\n",
        "    f = (x[0] - 1)**2\n",
        "    \n",
        "    # Termos subsequentes: (2*xi - x_{i-1})^2 para i = 2...n\n",
        "    for i in range(1, n):\n",
        "        f += (2*x[i] - x[i-1])**2\n",
        "    \n",
        "    return f"
      ]
    },
    {
      "cell_type": "markdown",
      "metadata": {},
      "source": [
        "- Problema 10: Linear Minimum Surface\n",
        "\n",
        "<img src=\"figs/lmsurface.jpg\" width=\"600\"  alt=\"Superfície mínima linear\">"
      ]
    },
    {
      "cell_type": "code",
      "execution_count": 158,
      "metadata": {},
      "outputs": [],
      "source": [
        "def lminsurf_objective(x):\n",
        "    #x: vetor de variáveis (deve ser um quadrado perfeito, n = p^2)\n",
        "        \n",
        "    n = len(x)\n",
        "    p = int(math.sqrt(n))\n",
        "    \n",
        "    if p*p != n:\n",
        "        raise ValueError(f\"n = {n} deve ser um quadrado perfeito\")\n",
        "    \n",
        "    if n < 9:\n",
        "        raise ValueError(f\"n = {n} deve ser pelo menos 9\")\n",
        "    \n",
        "    # Número de elementos\n",
        "    nel = (p-1)**2\n",
        "    \n",
        "    f = 0\n",
        "     # Para cada elemento (i,j) \n",
        "    for i in range(p-1):\n",
        "        for j in range(p-1):\n",
        "            # Índices dos 4 vértices do elemento\n",
        "            idx1 = i*p + j           # (i,j)\n",
        "            idx2 = i*p + (j+1)       # (i,j+1)\n",
        "            idx3 = (i+1)*p + j       # (i+1,j)\n",
        "            idx4 = (i+1)*p + (j+1)   # (i+1,j+1)\n",
        "            \n",
        "            # Cálculo da área do elemento\n",
        "            a = x[idx1] - x[idx4]  # x(i,j) - x(i+1,j+1)\n",
        "            b = x[idx3] - x[idx2]  # x(i+1,j) - x(i,j+1)\n",
        "            \n",
        "            ri = 1 + 0.5 * nel * (a**2 + b**2)\n",
        "            f += math.sqrt(ri) / nel\n",
        "    \n",
        "    return f\n",
        "\n",
        "\n",
        "def lminsurf_setup(n):\n",
        "\n",
        "    p = int(math.sqrt(n))\n",
        "    \n",
        "    if p*p != n:\n",
        "        raise ValueError(f\"n = {n} deve ser um quadrado perfeito\")\n",
        "    \n",
        "    if n < 9:\n",
        "        raise ValueError(f\"n = {n} deve ser pelo menos 9\")\n",
        "    \n",
        "    h = 1.0 / (p-1)\n",
        "    x0 = np.zeros(n)\n",
        "    xlower = -np.inf * np.ones(n)\n",
        "    xupper = np.inf * np.ones(n)\n",
        "    \n",
        "    # Configurar condições de contorno\n",
        "    for iy in range(p):\n",
        "        if iy == 0:  # Borda inferior\n",
        "            for ix in range(p):\n",
        "                t = ix * h\n",
        "                x0[ix] = 1 + 8*t\n",
        "                xlower[ix] = x0[ix]\n",
        "                xupper[ix] = x0[ix]\n",
        "        elif iy == p-1:  # Borda superior\n",
        "            for ix in range(p):\n",
        "                idx = ix + (p-1)*p\n",
        "                t = ix * h\n",
        "                x0[idx] = 5 + 8*t\n",
        "                xlower[idx] = x0[idx]\n",
        "                xupper[idx] = x0[idx]\n",
        "        else:  # Bordas laterais\n",
        "            # Borda esquerda\n",
        "            idx = iy*p\n",
        "            t = iy * h\n",
        "            x0[idx] = 1 + 4*t\n",
        "            xlower[idx] = x0[idx]\n",
        "            xupper[idx] = x0[idx]\n",
        "            \n",
        "            # Borda direita\n",
        "            idx = (iy+1)*p - 1\n",
        "            x0[idx] = 9 + 4*t\n",
        "            xlower[idx] = x0[idx]\n",
        "            xupper[idx] = x0[idx]\n",
        "    \n",
        "    return x0, xlower, xupper\n",
        "\n"
      ]
    },
    {
      "cell_type": "markdown",
      "metadata": {},
      "source": [
        "- Problema 11: Extended ENGVL1\n",
        "\n",
        "<img src=\"figs/engval1.jpg\" width=\"600\"  alt=\"ENgVAL1\">\n"
      ]
    },
    {
      "cell_type": "code",
      "execution_count": 159,
      "metadata": {},
      "outputs": [],
      "source": [
        "def engval1_objective(x):\n",
        "\n",
        "    n = len(x)\n",
        "    f = 0\n",
        "    \n",
        "    # Para cada par consecutivo (xi, xi+1)\n",
        "    for i in range(n-1):\n",
        "        t = x[i]**2 + x[i+1]**2\n",
        "        f += t**2 - 4*x[i] + 3\n",
        "    \n",
        "    return f\n",
        "    "
      ]
    },
    {
      "cell_type": "markdown",
      "metadata": {},
      "source": [
        "- Problema 12: Matrix Square Root 1\n"
      ]
    },
    {
      "cell_type": "code",
      "execution_count": 160,
      "metadata": {},
      "outputs": [],
      "source": [
        "\n",
        "def msqrtals_objective(x):\n",
        "\n",
        "    n = len(x)\n",
        "    m = int(math.sqrt(n))\n",
        "    \n",
        "    if m*m != n:\n",
        "        raise ValueError(f\"n = {n} deve ser um quadrado perfeito\")\n",
        "    \n",
        "    if n < 4:\n",
        "        raise ValueError(f\"n = {n} deve ser pelo menos 4\")\n",
        "    \n",
        "    # Construir matriz B\n",
        "    b = np.sin(np.arange(1, n+1)**2)\n",
        "    B = b.reshape(m, m).T\n",
        "    \n",
        "    # Construir matriz A = B*B\n",
        "    A = B @ B\n",
        "    \n",
        "    # Reshape x para matriz X\n",
        "    X = x.reshape(m, m)\n",
        "    \n",
        "    # Calcular resíduos: A - X*X\n",
        "    residual = A - X @ X\n",
        "    \n",
        "    # Soma dos quadrados dos resíduos\n",
        "    f = np.sum(residual**2)\n",
        "    \n",
        "    return f\n",
        "\n",
        "def msqrtals_setup(n=16):\n",
        "    #n: número de variáveis (deve ser um quadrado perfeito, padrão 16)\n",
        "    \n",
        "    m = int(math.sqrt(n))\n",
        "    \n",
        "    if m*m != n:\n",
        "        raise ValueError(f\"n = {n} deve ser um quadrado perfeito\")\n",
        "    \n",
        "    if n < 4:\n",
        "        raise ValueError(f\"n = {n} deve ser pelo menos 4\")\n",
        "    \n",
        "    # Ponto inicial: 0.2*sin((1:n).^2)'\n",
        "    x0 = 0.2 * np.sin(np.arange(1, n+1)**2)\n",
        "    \n",
        "    return x0"
      ]
    },
    {
      "cell_type": "markdown",
      "metadata": {},
      "source": [
        "- Problema 13: Matrix Square Root 2"
      ]
    },
    {
      "cell_type": "code",
      "execution_count": 161,
      "metadata": {},
      "outputs": [],
      "source": [
        "\n",
        "def msqrtbls_objective(x):\n",
        "    n = len(x)\n",
        "    m = int(math.sqrt(n))\n",
        "    \n",
        "    if m*m != n:\n",
        "        raise ValueError(f\"n = {n} deve ser um quadrado perfeito\")\n",
        "    \n",
        "    if n < 4:\n",
        "        raise ValueError(f\"n = {n} deve ser pelo menos 4\")\n",
        "    \n",
        "    # Construir matriz B (Case 1: b(2*m+1) = 0)\n",
        "    b = np.sin(np.arange(1, n+1)**2)\n",
        "    b[2*m] = 0  # Defines Case 1\n",
        "    B = b.reshape(m, m).T\n",
        "    \n",
        "    # Construir matriz A = B*B\n",
        "    A = B @ B\n",
        "    \n",
        "    # Reshape x para matriz X\n",
        "    X = x.reshape(m, m)\n",
        "    \n",
        "    # Calcular resíduos: A - X*X\n",
        "    residual = A - X @ X\n",
        "    \n",
        "    # Soma dos quadrados dos resíduos\n",
        "    f = np.sum(residual**2)\n",
        "    \n",
        "    return f\n",
        "\n",
        "def msqrtbls_setup(n=16):\n",
        "\n",
        "    m = int(math.sqrt(n))\n",
        "    \n",
        "    if m*m != n:\n",
        "        raise ValueError(f\"n = {n} deve ser um quadrado perfeito\")\n",
        "    \n",
        "    if n < 4:\n",
        "        raise ValueError(f\"n = {n} deve ser pelo menos 4\")\n",
        "    \n",
        "    # Ponto inicial: 0.2*sin((1:n).^2)'\n",
        "    x0 = 0.2 * np.sin(np.arange(1, n+1)**2)\n",
        "    \n",
        "    return x0\n"
      ]
    },
    {
      "cell_type": "markdown",
      "metadata": {},
      "source": [
        "- Problema 14: Extended Freudentstein and Roth\n",
        "\n",
        "<img src=\"figs/freuroth.jpg\" width=\"600\"  alt=\"Extended Freudentstein and Roth\">"
      ]
    },
    {
      "cell_type": "code",
      "execution_count": 162,
      "metadata": {},
      "outputs": [],
      "source": [
        "def freuroth_objective(x):\n",
        "\n",
        "    n = len(x)\n",
        "    f = 0\n",
        "    \n",
        "    # Para cada par consecutivo (xi, xi+1)\n",
        "    for i in range(n-1):\n",
        "        r1 = x[i] - 13 + 5*x[i+1]**2 - x[i+1]**3 - 2*x[i+1]\n",
        "        r2 = x[i] - 29 + x[i+1]**3 + x[i+1]**2 - 14*x[i+1]\n",
        "        f += r1**2 + r2**2\n",
        "    \n",
        "    return f\n"
      ]
    },
    {
      "cell_type": "markdown",
      "metadata": {},
      "source": [
        "- Problema 15: Sparse Matrix Square Root"
      ]
    },
    {
      "cell_type": "code",
      "execution_count": 163,
      "metadata": {},
      "outputs": [],
      "source": [
        "def spmsqrt_objective(x):\n",
        "\n",
        "    n = len(x)\n",
        "    m = (n + 2) // 3\n",
        "    \n",
        "    if 3*m - 2 != n:\n",
        "        raise ValueError(f\"n = {n} deve satisfazer n = 3m-2\")\n",
        "    \n",
        "    if n < 4:\n",
        "        raise ValueError(f\"n = {n} deve ser pelo menos 4\")\n",
        "    \n",
        "    # Construir matriz B tridiagonal\n",
        "    B = np.zeros((m, m))\n",
        "    b = np.sin(np.arange(1, 3*m-1)**2)\n",
        "    \n",
        "    ib = 0\n",
        "    for j in range(m):\n",
        "        if j == 0:\n",
        "            B[0:2, 0] = b[0:2]\n",
        "            ib = 2\n",
        "        elif j == m-1:\n",
        "            B[m-2:m, m-1] = b[ib:ib+2]\n",
        "        else:\n",
        "            B[j-1:j+2, j] = b[ib:ib+3]\n",
        "            ib += 3\n",
        "    \n",
        "    # Construir matriz A = B*B\n",
        "    A = B @ B\n",
        "    \n",
        "    # Extrair elementos não-zero de A (estrutura tridiagonal)\n",
        "    a = []\n",
        "    for j in range(m):\n",
        "        start = max(0, j-2)\n",
        "        end = min(m, j+3)\n",
        "        a.extend(A[start:end, j])\n",
        "    \n",
        "    # Construir matriz X tridiagonal a partir de x\n",
        "    X = np.zeros((m, m))\n",
        "    ib = 0\n",
        "    for j in range(m):\n",
        "        if j == 0:\n",
        "            X[0:2, 0] = x[0:2]\n",
        "            ib = 2\n",
        "        elif j == m-1:\n",
        "            X[m-2:m, m-1] = x[n-2:n]\n",
        "        else:\n",
        "            X[j-1:j+2, j] = x[ib:ib+3]\n",
        "            ib += 3\n",
        "    \n",
        "    # Calcular resíduos: A - X*X\n",
        "    residual = A - X @ X\n",
        "    \n",
        "    # Extrair elementos não-zero do resíduo (estrutura tridiagonal)\n",
        "    residual_elements = []\n",
        "    for j in range(m):\n",
        "        start = max(0, j-2)\n",
        "        end = min(m, j+3)\n",
        "        residual_elements.extend(residual[start:end, j])\n",
        "    \n",
        "    # Soma dos quadrados dos resíduos\n",
        "    f = np.sum(np.array(residual_elements)**2)\n",
        "    \n",
        "    return f\n",
        "\n",
        "def spmsqrt_setup(n=10):\n",
        "\n",
        "    m = (n + 2) // 3\n",
        "    \n",
        "    if 3*m - 2 != n:\n",
        "        raise ValueError(f\"n = {n} deve satisfazer n = 3m-2\")\n",
        "    \n",
        "    if n < 4:\n",
        "        raise ValueError(f\"n = {n} deve ser pelo menos 4\")\n",
        "    \n",
        "    # Ponto inicial: 0.2*sin((1:n).^2)'\n",
        "    x0 = 0.2 * np.sin(np.arange(1, n+1)**2)\n",
        "    \n",
        "    return x0"
      ]
    },
    {
      "cell_type": "markdown",
      "metadata": {},
      "source": [
        "- Problema 16: Ults0\n"
      ]
    },
    {
      "cell_type": "code",
      "execution_count": 164,
      "metadata": {},
      "outputs": [],
      "source": [
        "def rho(magnitude_of_velocity):\n",
        "    \"\"\"\n",
        "    Função rho com proteção contra valores que causam raiz quadrada negativa.\n",
        "    \"\"\"\n",
        "    # Limitar a magnitude da velocidade para evitar problemas numéricos\n",
        "    magnitude_of_velocity = np.clip(magnitude_of_velocity, 0, 0.99)\n",
        "    \n",
        "    denominator = 1.0 - magnitude_of_velocity**2\n",
        "    return 1.0 / np.sqrt(denominator)\n",
        "\n",
        "def compute_divergence(phi_values, h):\n",
        "    \"\"\"\n",
        "    Calcula a divergência do termo 'div[rho * nabla(phi)]'\n",
        "    usando diferenças finitas.\n",
        "    \"\"\"\n",
        "    # Assumimos que phi_values é uma grade 2D (NxN)\n",
        "    \n",
        "    # 1. Calcule o gradiente de phi\n",
        "    grad_phi_x = np.gradient(phi_values, h, axis=0)\n",
        "    grad_phi_y = np.gradient(phi_values, h, axis=1)\n",
        "    \n",
        "    # 2. Calcule a magnitude do gradiente\n",
        "    magnitude = np.sqrt(grad_phi_x**2 + grad_phi_y**2)\n",
        "    \n",
        "    # 3. Calcule o rho\n",
        "    density = rho(magnitude)\n",
        "    \n",
        "    # 4. Calcule o vetor de fluxo 'rho * nabla(phi)'\n",
        "    flux_x = density * grad_phi_x\n",
        "    flux_y = density * grad_phi_y\n",
        "    \n",
        "    # 5. Calcule a divergência do fluxo\n",
        "    div_flux_x = np.gradient(flux_x, h, axis=0)\n",
        "    div_flux_y = np.gradient(flux_y, h, axis=1)\n",
        "    \n",
        "    divergence = div_flux_x + div_flux_y\n",
        "    \n",
        "    return divergence\n",
        "\n",
        "def ults0_objective(phi_1d, grid_shape, h):\n",
        "\n",
        "    try:\n",
        "        # Remodelar o array 1D para a grade 2D\n",
        "        phi_values = phi_1d.reshape(grid_shape)\n",
        "        \n",
        "        # Calcule o lado esquerdo da equação (3.1)\n",
        "        left_side = compute_divergence(phi_values, h)\n",
        "        \n",
        "        # Verificar se há valores NaN ou infinitos\n",
        "        if np.any(np.isnan(left_side)) or np.any(np.isinf(left_side)):\n",
        "            return 1e10  # Retornar um valor alto se houver problemas numéricos\n",
        "        \n",
        "        # Retorne a soma dos quadrados dos resíduos\n",
        "        return np.sum(left_side**2)\n",
        "    \n",
        "    except Exception as e:\n",
        "        print(f\"Erro na função objetivo: {e}\")\n",
        "        return 1e10"
      ]
    },
    {
      "cell_type": "markdown",
      "metadata": {
        "id": "I3WnIzI17AcA"
      },
      "source": [
        "# Minimizando usando o L-BFGS-B"
      ]
    },
    {
      "cell_type": "code",
      "execution_count": 165,
      "metadata": {
        "id": "12BPdvWkvIST"
      },
      "outputs": [],
      "source": [
        "from scipy.optimize import minimize"
      ]
    },
    {
      "cell_type": "markdown",
      "metadata": {
        "id": "mxisniKj0V0B"
      },
      "source": [
        "- Trigonometric:"
      ]
    },
    {
      "cell_type": "code",
      "execution_count": 166,
      "metadata": {
        "colab": {
          "base_uri": "https://localhost:8080/"
        },
        "id": "manLYWqX0Ioa",
        "outputId": "30119bba-d816-4277-a8b7-aa4080c0e6ae"
      },
      "outputs": [
        {
          "name": "stdout",
          "output_type": "stream",
          "text": [
            "Resultado da otimização:\n",
            "x* = [0.10474191 0.11179985 0.12146511 0.35279539 0.19218876]\n",
            "Valor da função objetivo = 2.6812660261121253e-08\n"
          ]
        }
      ],
      "source": [
        "n = 5\n",
        "x0 = np.ones(n)\n",
        "x0 = x0/n\n",
        "res = minimize(trigonometric_ext_objective, x0, method='L-BFGS-B')\n",
        "\n",
        "print(\"Resultado da otimização:\")\n",
        "print(\"x* =\", res.x)\n",
        "print(\"Valor da função objetivo =\", res.fun)"
      ]
    },
    {
      "cell_type": "markdown",
      "metadata": {
        "id": "6v463eF82VOB"
      },
      "source": [
        "- Extended Rosenbrock:"
      ]
    },
    {
      "cell_type": "code",
      "execution_count": 167,
      "metadata": {
        "colab": {
          "base_uri": "https://localhost:8080/"
        },
        "id": "73SFUN0F1j6z",
        "outputId": "c090b87f-cfa9-4c3a-cd5a-7061efbdbae4"
      },
      "outputs": [
        {
          "name": "stdout",
          "output_type": "stream",
          "text": [
            "x* = [1.0000112  1.00002246 0.99998294 0.9999658 ]\n",
            "f(x*) = 4.1745570783568797e-10\n"
          ]
        }
      ],
      "source": [
        "# ponto inicial\n",
        "x0 = np.array([0.5, 0.5, 0.5, 0.5])  # n precisa ser par; não consegui indentificar qual é o ponto inicial no paper\n",
        "\n",
        "res = minimize(rosenbrock_ext_objective, x0, method=\"L-BFGS-B\")\n",
        "\n",
        "print(\"x* =\", res.x)\n",
        "print(\"f(x*) =\", res.fun)"
      ]
    },
    {
      "cell_type": "markdown",
      "metadata": {
        "id": "Gc8YOZ0N4PNF"
      },
      "source": [
        "- Extended Powell:"
      ]
    },
    {
      "cell_type": "code",
      "execution_count": 168,
      "metadata": {
        "colab": {
          "base_uri": "https://localhost:8080/"
        },
        "id": "YbqZMLOm3maa",
        "outputId": "a498c6ed-36d7-4590-f6a6-44e9a14a26e9"
      },
      "outputs": [
        {
          "name": "stdout",
          "output_type": "stream",
          "text": [
            "x* = [ 5.20354297e-04 -5.40950257e-05  5.64219819e-03  5.64620889e-03]\n",
            "f(x*) = 2.3936085771019854e-08\n"
          ]
        }
      ],
      "source": [
        "x0 = np.array([3.0, -1.0, 0.0, 1.0])\n",
        "\n",
        "res = minimize(powell_singular_ext_objective, x0, method=\"L-BFGS-B\")\n",
        "\n",
        "print(\"x* =\", res.x)\n",
        "print(\"f(x*) =\", res.fun)"
      ]
    },
    {
      "cell_type": "markdown",
      "metadata": {
        "id": "s20K8eVw5u7V"
      },
      "source": [
        "- QOR:"
      ]
    },
    {
      "cell_type": "code",
      "execution_count": 169,
      "metadata": {
        "colab": {
          "base_uri": "https://localhost:8080/"
        },
        "id": "FApIQneh4jnE",
        "outputId": "eafa9aae-6543-4e46-b425-8527062f0d59"
      },
      "outputs": [
        {
          "name": "stdout",
          "output_type": "stream",
          "text": [
            "Sucesso: True\n",
            "Mensagem: CONVERGENCE: RELATIVE REDUCTION OF F <= FACTR*EPSMCH\n",
            "Número de iterações: 24\n",
            "x* = [ 0.59235194 -0.71119642  0.06294984 -2.65130089  1.58363972  4.02263938\n",
            "  0.14360236  1.92470896 -0.06265392 -0.63941546  0.59874008  0.44592406\n",
            "  1.28086251  0.71002692 -0.8775762  -3.03476637 -1.38643225  0.7405886\n",
            " -7.11236591  1.37436371  3.57044619  2.2655167   2.56624001  3.75496691\n",
            " -2.32659313  1.2112982   1.37240434  2.31100057 -0.73686734 -0.4757296\n",
            "  0.69361576 -2.39885944  3.80569826  2.12269091 -3.20129753  1.10636117\n",
            "  0.35492553 -1.58131176 -1.47638038  4.30993893  0.68168804  2.35414146\n",
            " -1.03420308  1.97816653 -0.33819197 -0.35798847 -3.51772534 -0.09979968\n",
            " -3.30409981  1.19738166]\n",
            "Valor mínimo encontrado: 1175.4722232049098\n"
          ]
        }
      ],
      "source": [
        "# Função objetivo \"pronta\" só em termos de x\n",
        "def objective_qor(x):\n",
        "    return f_qor(x, a, B, d, A_sets, B_sets)\n",
        "\n",
        "# Dimensão do problema (50 variáveis)\n",
        "n = 50\n",
        "\n",
        "# Ponto inicial: vetor de zeros\n",
        "x0 = np.zeros(n)\n",
        "\n",
        "# Otimização\n",
        "res = minimize(objective_qor, x0, method=\"L-BFGS-B\")\n",
        "\n",
        "print(\"Sucesso:\", res.success)\n",
        "print(\"Mensagem:\", res.message)\n",
        "print(\"Número de iterações:\", res.nit)\n",
        "print(\"x* =\", res.x)\n",
        "print(\"Valor mínimo encontrado:\", res.fun)"
      ]
    },
    {
      "cell_type": "markdown",
      "metadata": {
        "id": "VvlowWDK92Jz"
      },
      "source": [
        "- GOR:"
      ]
    },
    {
      "cell_type": "code",
      "execution_count": 170,
      "metadata": {
        "colab": {
          "base_uri": "https://localhost:8080/"
        },
        "id": "aDl43xLY50MJ",
        "outputId": "8d59de35-26fd-4d44-a4e5-813174c86dbd"
      },
      "outputs": [
        {
          "name": "stdout",
          "output_type": "stream",
          "text": [
            "Sucesso: True\n",
            "Mensagem: CONVERGENCE: RELATIVE REDUCTION OF F <= FACTR*EPSMCH\n",
            "Número de iterações: 79\n",
            "x* = [-1.79862431 -0.3434098  -3.04030607 -0.10580007  7.3627922   1.16102615\n",
            "  3.88851806  0.25989856  0.46266803  0.2731113   0.22983314 -0.06379558\n",
            " -0.40471948 -1.74877571 -7.14853941 -0.83448447 -1.09729555 -9.5109143\n",
            " -2.07389786  9.44081847  1.36223337 -0.47580838  8.46554019 -5.54920688\n",
            "  0.87607907  0.66781537  4.12257373  0.45901708 -0.17045026  0.71152347\n",
            " -1.60756313  5.19380631  8.94919989 -2.28500419  1.31748682  0.19874809\n",
            " -1.01152315 -1.59627525 10.65663252  4.081367    4.11000201 -6.3236745\n",
            "  2.14936617 -0.57874344  0.47942228 -5.34299006 -2.50410865 -0.26764842\n",
            "  6.36887311 -0.18490951]\n",
            "Valor mínimo encontrado: 1381.1182142281775\n"
          ]
        }
      ],
      "source": [
        "# Função objetivo \"pronta\" só em termos de x\n",
        "def objective_gor(x):\n",
        "    return f_gor(x, a, B, d, A_sets, B_sets)\n",
        "\n",
        "# Dimensão do problema (50 variáveis)\n",
        "n = 50\n",
        "\n",
        "# Ponto inicial: vetor de zeros\n",
        "x0 = np.zeros(n)\n",
        "\n",
        "# Otimização\n",
        "res = minimize(objective_gor, x0, method=\"L-BFGS-B\")\n",
        "\n",
        "print(\"Sucesso:\", res.success)\n",
        "print(\"Mensagem:\", res.message)\n",
        "print(\"Número de iterações:\", res.nit)\n",
        "print(\"x* =\", res.x)\n",
        "print(\"Valor mínimo encontrado:\", res.fun)"
      ]
    },
    {
      "cell_type": "markdown",
      "metadata": {
        "id": "rexnB9TW-V9i"
      },
      "source": [
        "- PSP:"
      ]
    },
    {
      "cell_type": "code",
      "execution_count": 171,
      "metadata": {
        "colab": {
          "base_uri": "https://localhost:8080/"
        },
        "id": "AUX7YIzF-Wa2",
        "outputId": "6361c11c-8741-46dd-9f43-bde80865bc44"
      },
      "outputs": [
        {
          "name": "stdout",
          "output_type": "stream",
          "text": [
            "Sucesso: True\n",
            "Mensagem: CONVERGENCE: RELATIVE REDUCTION OF F <= FACTR*EPSMCH\n",
            "Número de iterações: 68\n",
            "x* = [4.99980706 4.94318696 5.00288689 2.90310779 4.99576391 4.95737914\n",
            " 4.99973757 3.49698404 5.00346472 4.70264263 4.99240915 4.79322285\n",
            " 4.74454245 0.98387689 5.27087475 1.08276437 3.71376529 5.01971425\n",
            " 2.73606544 2.64699594 3.40916243 4.99023264 0.97164812 4.96905179\n",
            " 2.23342282 3.58367767 5.04262637 5.00281552 4.25261216 4.99460987\n",
            " 5.00065149 4.93392625 1.45516803 5.02844814 4.99561912 4.5325422\n",
            " 3.7064933  4.51298717 5.89486963 5.00542946 4.11397045 1.8365657\n",
            " 4.99990919 3.43405045 4.99069183 1.64664123 3.44890633 3.60838614\n",
            " 1.73754467 5.0081376 ]\n",
            "Valor mínimo encontrado: 202.04849146512927\n"
          ]
        }
      ],
      "source": [
        "# Função objetivo \"pronta\" só em termos de x\n",
        "def objective_psp(x):\n",
        "    return f_psp(x, a, B, d, A_sets, B_sets)\n",
        "\n",
        "# Dimensão do problema (50 variáveis)\n",
        "n = 50\n",
        "\n",
        "# Ponto inicial: vetor de zeros\n",
        "x0 = np.zeros(n)\n",
        "\n",
        "# Otimização\n",
        "res = minimize(objective_psp, x0, method=\"L-BFGS-B\")\n",
        "\n",
        "print(\"Sucesso:\", res.success)\n",
        "print(\"Mensagem:\", res.message)\n",
        "print(\"Número de iterações:\", res.nit)\n",
        "print(\"x* =\", res.x)\n",
        "print(\"Valor mínimo encontrado:\", res.fun)"
      ]
    },
    {
      "cell_type": "markdown",
      "metadata": {},
      "source": [
        "- TRIDIAGONAL:"
      ]
    },
    {
      "cell_type": "code",
      "execution_count": 172,
      "metadata": {},
      "outputs": [
        {
          "name": "stdout",
          "output_type": "stream",
          "text": [
            "x* = [1.00000105 0.49999892 0.25000078 0.12500014 0.06250054 0.03124897\n",
            " 0.01562471 0.00781186 0.00390736 0.00195288]\n",
            "f(x*) = 3.806211768953026e-11\n",
            "Sucesso: True\n",
            "Mensagem: CONVERGENCE: RELATIVE REDUCTION OF F <= FACTR*EPSMCH\n",
            "Número de iterações: 15\n",
            "x* = [1.00000105 0.49999892 0.25000078 0.12500014 0.06250054 0.03124897\n",
            " 0.01562471 0.00781186 0.00390736 0.00195288]\n",
            "Valor mínimo encontrado: 3.806211768953026e-11\n"
          ]
        }
      ],
      "source": [
        "# Função objetivo\n",
        "n = 10\n",
        "x0 = np.ones(n)\n",
        "\n",
        "res = minimize(tridia_objective, x0, method=\"L-BFGS-B\")\n",
        "\n",
        "print(\"x* =\", res.x)\n",
        "print(\"f(x*) =\", res.fun)\n",
        "\n",
        "\n",
        "print(\"Sucesso:\", res.success)\n",
        "print(\"Mensagem:\", res.message)\n",
        "print(\"Número de iterações:\", res.nit)\n",
        "print(\"x* =\", res.x)\n",
        "print(\"Valor mínimo encontrado:\", res.fun)"
      ]
    },
    {
      "cell_type": "markdown",
      "metadata": {},
      "source": [
        "- ENGVAL1:"
      ]
    },
    {
      "cell_type": "code",
      "execution_count": 173,
      "metadata": {},
      "outputs": [
        {
          "name": "stdout",
          "output_type": "stream",
          "text": [
            "Sucesso: True\n",
            "Mensagem: CONVERGENCE: RELATIVE REDUCTION OF F <= FACTR*EPSMCH\n",
            "Número de iterações: 15\n",
            "x* = [9.01035119e-01 5.45879938e-01 6.51210358e-01 6.24071756e-01\n",
            " 6.31963382e-01 6.27800544e-01 6.36567313e-01 6.05287030e-01\n",
            " 7.17032519e-01 3.31731053e-06]\n",
            "Valor mínimo encontrado: 9.177469957554894\n"
          ]
        }
      ],
      "source": [
        "n = 10\n",
        "x0 = 2 * np.ones(n)\n",
        "res = minimize(engval1_objective, x0, method='L-BFGS-B')\n",
        "\n",
        "\n",
        "print(\"Sucesso:\", res.success)\n",
        "print(\"Mensagem:\", res.message)\n",
        "print(\"Número de iterações:\", res.nit)\n",
        "print(\"x* =\", res.x)\n",
        "print(\"Valor mínimo encontrado:\", res.fun)"
      ]
    },
    {
      "cell_type": "markdown",
      "metadata": {},
      "source": [
        "- Extended Freudentstein and Roth:"
      ]
    },
    {
      "cell_type": "code",
      "execution_count": 174,
      "metadata": {},
      "outputs": [
        {
          "name": "stdout",
          "output_type": "stream",
          "text": [
            "Sucesso: True\n",
            "Mensagem: CONVERGENCE: RELATIVE REDUCTION OF F <= FACTR*EPSMCH\n",
            "Número de iterações: 18\n",
            "x* = [12.26911872 -0.83186182 -1.50692234 -1.53467108 -1.53579776 -1.5358451\n",
            " -1.53584694 -1.53585869 -1.53614981 -1.54330632]\n",
            "Valor mínimo encontrado: 1014.0640725762277\n"
          ]
        }
      ],
      "source": [
        "n = 10\n",
        "x0 = 1 * np.ones(n)\n",
        "res = minimize(freuroth_objective, x0, method='L-BFGS-B')\n",
        "\n",
        "print(\"Sucesso:\", res.success)\n",
        "print(\"Mensagem:\", res.message)\n",
        "print(\"Número de iterações:\", res.nit)\n",
        "print(\"x* =\", res.x)\n",
        "print(\"Valor mínimo encontrado:\", res.fun)"
      ]
    },
    {
      "cell_type": "markdown",
      "metadata": {},
      "source": [
        "- Problema 12: Matrix Square Root 1"
      ]
    },
    {
      "cell_type": "code",
      "execution_count": 175,
      "metadata": {},
      "outputs": [
        {
          "name": "stdout",
          "output_type": "stream",
          "text": [
            "Sucesso: True\n",
            "Mensagem: CONVERGENCE: RELATIVE REDUCTION OF F <= FACTR*EPSMCH\n",
            "Número de iterações: 44\n",
            "x* = [ 0.84153449 -0.13241686 -0.62991331 -0.60208168 -0.7567417  -0.99178156\n",
            " -0.50636944  0.9394918   0.41221018 -0.95377925  0.99883134 -0.93008448\n",
            " -0.28775748  0.9199821  -0.49101942 -0.99929431]\n",
            "Valor mínimo encontrado: 7.620865747173693e-09\n"
          ]
        }
      ],
      "source": [
        "n = 16 \n",
        "x0 = msqrtals_setup(n)\n",
        "res = minimize(msqrtals_objective, x0, method='L-BFGS-B')\n",
        "\n",
        "print(\"Sucesso:\", res.success)\n",
        "print(\"Mensagem:\", res.message)\n",
        "print(\"Número de iterações:\", res.nit)\n",
        "print(\"x* =\", res.x)\n",
        "print(\"Valor mínimo encontrado:\", res.fun)      "
      ]
    },
    {
      "cell_type": "markdown",
      "metadata": {},
      "source": [
        "- Problema 13: Matrix Square Root 2"
      ]
    },
    {
      "cell_type": "code",
      "execution_count": 176,
      "metadata": {},
      "outputs": [
        {
          "name": "stdout",
          "output_type": "stream",
          "text": [
            "Sucesso: True\n",
            "Mensagem: CONVERGENCE: RELATIVE REDUCTION OF F <= FACTR*EPSMCH\n",
            "Número de iterações: 60\n",
            "x* = [ 0.84052162 -0.13650435 -0.00182723 -0.60347397 -0.7547155  -0.990452\n",
            " -0.50658165  0.93777665  0.41469556 -0.95404589  1.00000513 -0.92404561\n",
            " -0.28633384  0.9210025  -0.49205254 -1.00092714]\n",
            "Valor mínimo encontrado: 4.143825281621554e-07\n"
          ]
        }
      ],
      "source": [
        "n = 16  \n",
        "x0 = msqrtbls_setup(n)\n",
        "res = minimize(msqrtbls_objective, x0, method='L-BFGS-B')\n",
        "\n",
        "print(\"Sucesso:\", res.success)\n",
        "print(\"Mensagem:\", res.message)\n",
        "print(\"Número de iterações:\", res.nit)\n",
        "print(\"x* =\", res.x)\n",
        "print(\"Valor mínimo encontrado:\", res.fun)      "
      ]
    },
    {
      "cell_type": "markdown",
      "metadata": {},
      "source": [
        "- Problema 14: LMINSURF"
      ]
    },
    {
      "cell_type": "code",
      "execution_count": 177,
      "metadata": {},
      "outputs": [
        {
          "name": "stdout",
          "output_type": "stream",
          "text": [
            "Sucesso: True\n",
            "Mensagem: CONVERGENCE: NORM OF PROJECTED GRADIENT <= PGTOL\n",
            "Número de iterações: 9\n",
            "x* = [ 1.          3.66666667  6.33333333  9.          2.33333333  4.99994032\n",
            "  7.66680433 10.33333333  3.66666667  6.33343306  9.00009033 11.66666667\n",
            "  5.          7.66666667 10.33333333 13.        ]\n",
            "Valor mínimo encontrado: 9.000000001442865\n"
          ]
        }
      ],
      "source": [
        "n = 16  \n",
        "x0, xlower, xupper = lminsurf_setup(n)\n",
        "res = minimize(lminsurf_objective, x0, method='L-BFGS-B', \n",
        "                bounds=list(zip(xlower, xupper)))\n",
        "\n",
        "print(\"Sucesso:\", res.success)\n",
        "print(\"Mensagem:\", res.message)\n",
        "print(\"Número de iterações:\", res.nit)\n",
        "print(\"x* =\", res.x)\n",
        "print(\"Valor mínimo encontrado:\", res.fun)                "
      ]
    },
    {
      "cell_type": "markdown",
      "metadata": {},
      "source": [
        "- Problema 15: Sparse Matrix Square Root"
      ]
    },
    {
      "cell_type": "code",
      "execution_count": 178,
      "metadata": {},
      "outputs": [
        {
          "name": "stdout",
          "output_type": "stream",
          "text": [
            "Sucesso: True\n",
            "Mensagem: CONVERGENCE: RELATIVE REDUCTION OF F <= FACTR*EPSMCH\n",
            "Número de iterações: 21\n",
            "x* = [ 0.84147003 -0.75677541  0.41212499 -0.28789727 -0.13235317 -0.99178195\n",
            " -0.95375087  0.92002464 -0.62988726 -0.50636601]\n",
            "Valor mínimo encontrado: 3.023049288729955e-10\n"
          ]
        }
      ],
      "source": [
        "n = 10  \n",
        "x0 = spmsqrt_setup(n)\n",
        "res = minimize(spmsqrt_objective, x0, method='L-BFGS-B')\n",
        "\n",
        "print(\"Sucesso:\", res.success)\n",
        "print(\"Mensagem:\", res.message)\n",
        "print(\"Número de iterações:\", res.nit)\n",
        "print(\"x* =\", res.x)\n",
        "print(\"Valor mínimo encontrado:\", res.fun)      "
      ]
    },
    {
      "cell_type": "markdown",
      "metadata": {},
      "source": [
        "- Ults0"
      ]
    },
    {
      "cell_type": "code",
      "execution_count": 179,
      "metadata": {},
      "outputs": [
        {
          "name": "stdout",
          "output_type": "stream",
          "text": [
            "Grade: 8x8\n",
            "Ponto inicial (primeiros 5 valores): [ 0.04967142 -0.01382643  0.06476885  0.15230299 -0.02341534]\n",
            "Sucesso: True\n",
            "Mensagem: CONVERGENCE: RELATIVE REDUCTION OF F <= FACTR*EPSMCH\n",
            "Número de iterações: 81\n",
            "x* = [ 0.00117796  0.00900163 -0.00112987 -0.00401418 -0.02210035 -0.03103718\n",
            " -0.04792263 -0.05666763 -0.01718072 -0.00933459 -0.01397703 -0.01471621\n",
            " -0.02542689 -0.03079041 -0.0414984  -0.04692948 -0.01763105 -0.01382295\n",
            " -0.01734187 -0.01873677 -0.0263465  -0.0312494  -0.03937916 -0.04528951\n",
            " -0.02874507 -0.02494663 -0.02520322 -0.02500561 -0.02749243 -0.0300032\n",
            " -0.03372959 -0.03776519 -0.0222899  -0.02410908 -0.02435464 -0.02614006\n",
            " -0.02664207 -0.02996136 -0.03224442 -0.03836098 -0.03157435 -0.03342858\n",
            " -0.03028713 -0.03035652 -0.0255655  -0.02638547 -0.02409603 -0.02796605\n",
            " -0.0304283  -0.03575174 -0.03127503 -0.03175793 -0.02366426 -0.02390323\n",
            " -0.0188309  -0.02340138 -0.04416494 -0.04891586 -0.03878483 -0.03656926\n",
            " -0.02058405 -0.01720328 -0.00523372 -0.00612495]\n",
            "Valor mínimo encontrado: 0.0006890967340308961\n"
          ]
        }
      ],
      "source": [
        "N = 8  # Grade pequena para teste\n",
        "h = 1.0 / (N - 1)  \n",
        "grid_shape = (N, N)\n",
        "\n",
        "# Ponto inicial para a otimização - usar valores pequenos em vez de zero\n",
        "np.random.seed(42)  # Para reprodutibilidade\n",
        "initial_phi_guess = 0.1 * np.random.randn(N * N)\n",
        "\n",
        "# Adicionar limites para evitar valores muito grandes\n",
        "bounds = [(-5, 5) for _ in range(N * N)]\n",
        "\n",
        "print(f\"Grade: {N}x{N}\")\n",
        "print(f\"Ponto inicial (primeiros 5 valores): {initial_phi_guess[:5]}\")\n",
        "\n",
        "result = minimize(\n",
        "    fun=ults0_objective,\n",
        "    x0=initial_phi_guess,\n",
        "    args=(grid_shape, h),\n",
        "    method='L-BFGS-B',\n",
        "    bounds=bounds,\n",
        "    options={'maxiter': 500, 'ftol': 1e-6}\n",
        ")\n",
        "\n",
        "print(\"Sucesso:\", result.success)\n",
        "print(\"Mensagem:\", result.message)\n",
        "print(\"Número de iterações:\", result.nit)\n",
        "print(\"x* =\", result.x)\n",
        "print(\"Valor mínimo encontrado:\", result.fun)      \n"
      ]
    }
  ],
  "metadata": {
    "colab": {
      "provenance": []
    },
    "kernelspec": {
      "display_name": "Python 3",
      "name": "python3"
    },
    "language_info": {
      "codemirror_mode": {
        "name": "ipython",
        "version": 3
      },
      "file_extension": ".py",
      "mimetype": "text/x-python",
      "name": "python",
      "nbconvert_exporter": "python",
      "pygments_lexer": "ipython3",
      "version": "3.10.11"
    }
  },
  "nbformat": 4,
  "nbformat_minor": 0
}
