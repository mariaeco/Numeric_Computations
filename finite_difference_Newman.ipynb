{
 "cells": [
  {
   "cell_type": "markdown",
   "metadata": {},
   "source": [
    "# **METÓDOS DAS DIFERENÇAS FINITAS NEWMAN** \n",
    "\n",
    "PROBLEMAS DE CONTORNO\n"
   ]
  },
  {
   "cell_type": "code",
   "execution_count": 90,
   "metadata": {},
   "outputs": [],
   "source": [
    "from sympy import symbols, IndexedBase, Sum, Eqn, simplify\n",
    "import numpy as np\n",
    "from algebra_with_sympy import *\n"
   ]
  },
  {
   "cell_type": "code",
   "execution_count": 91,
   "metadata": {},
   "outputs": [
    {
     "data": {
      "text/latex": [
       "${y}_{i}=\\frac{{y}_{i + 1} + {y}_{i - 1} - 2 {y}_{i}}{h^{2}}\\,\\,\\,\\,\\,\\,\\,\\,\\,\\,(\\text{yll})$"
      ],
      "text/plain": [
       "Equation(y[i], (y[i + 1] + y[i - 1] - 2*y[i])/h**2)"
      ]
     },
     "metadata": {},
     "output_type": "display_data"
    },
    {
     "data": {
      "text/latex": [
       "${y}_{i}=\\frac{{y}_{i + 1} - {y}_{i}}{h}\\,\\,\\,\\,\\,\\,\\,\\,\\,\\,(\\text{ylprog})$"
      ],
      "text/plain": [
       "Equation(y[i], (y[i + 1] - y[i])/h)"
      ]
     },
     "metadata": {},
     "output_type": "display_data"
    },
    {
     "data": {
      "text/latex": [
       "${y}_{i}=\\frac{- {y}_{i - 1} + {y}_{i}}{h}\\,\\,\\,\\,\\,\\,\\,\\,\\,\\,(\\text{ylregr})$"
      ],
      "text/plain": [
       "Equation(y[i], (-y[i - 1] + y[i])/h)"
      ]
     },
     "metadata": {},
     "output_type": "display_data"
    },
    {
     "data": {
      "text/latex": [
       "${y}_{i}=\\frac{{y}_{i + 1} - {y}_{i - 1}}{2 h}\\,\\,\\,\\,\\,\\,\\,\\,\\,\\,(\\text{ylcent})$"
      ],
      "text/plain": [
       "Equation(y[i], (y[i + 1] - y[i - 1])/(2*h))"
      ]
     },
     "metadata": {},
     "output_type": "display_data"
    }
   ],
   "source": [
    "i, h, z = symbols('i h z')\n",
    "y = IndexedBase('y')\n",
    "x = IndexedBase('x')\n",
    "\n",
    "yll = Eqn(y[i] ,(y[i+1]-2*y[i]+y[i-1])/(h**2)) \n",
    "ylprog = Eqn(y[i],((y[i+1]-y[i])/h))\n",
    "ylregr = Eqn(y[i],((y[i]-y[i-1])/h))\n",
    "ylcent = Eqn(y[i],((y[i+1]-y[i-1])/(2*h)))\n",
    "\n",
    "display(yll, ylprog, ylregr, ylcent)\n"
   ]
  },
  {
   "cell_type": "markdown",
   "metadata": {},
   "source": [
    "**Discretizando**"
   ]
  },
  {
   "cell_type": "code",
   "execution_count": 92,
   "metadata": {},
   "outputs": [
    {
     "data": {
      "text/latex": [
       "$\\left(h^{2} + 2\\right) {y}_{i} - {y}_{i + 1} - {y}_{i - 1} = h^{2} {x}_{i}$"
      ],
      "text/plain": [
       "Eq((h**2 + 2)*y[i] - y[i + 1] - y[i - 1], h**2*x[i])"
      ]
     },
     "execution_count": 92,
     "metadata": {},
     "output_type": "execute_result"
    }
   ],
   "source": [
    "edo = Eqn(-yll.rhs + y[i], x[i])  #pegando o lado direito da equação yll e aplicando na função\n",
    "edo = simplify(edo)*h**2\n",
    "# Agrupando os elementos em comum\n",
    "common_y_terms = edo.lhs.collect(y[i])\n",
    "remaining_terms = edo.rhs\n",
    "\n",
    "# Equação discretizada final\n",
    "grouped_equation = Eq(common_y_terms, remaining_terms)\n",
    "grouped_equation"
   ]
  },
  {
   "cell_type": "markdown",
   "metadata": {},
   "source": [
    "# Condição de Newman\n",
    "Tenho aqui o meu vetor com h=0.25\n",
    "| i |  x  | y |\n",
    "| --- | --- | --- |\n",
    "| 0 | 0.00 |     |\n",
    "| 1 | 0.25 |     |\n",
    "| 2 | 0.50 |     |\n",
    "| 3 | 0.75 |     |\n",
    "| 4 | 1.00 |     |\n",
    "| 5 | 1.25 |     |\n",
    "\n",
    "E, dado:\n",
    "\n",
    "y'(0) = 1\n",
    "\n",
    "y'(1.25) = -1"
   ]
  },
  {
   "cell_type": "code",
   "execution_count": 93,
   "metadata": {},
   "outputs": [],
   "source": [
    "#Meus vetores\n",
    "y0 = 1\n",
    "y1 = -1\n",
    "xv  = [0, 0.25, 0.50, 0.75, 1, 1.25]\n",
    "yv  = [nan, nan, nan, nan, nan, nan]"
   ]
  },
  {
   "cell_type": "code",
   "execution_count": 94,
   "metadata": {},
   "outputs": [
    {
     "name": "stdout",
     "output_type": "stream",
     "text": [
      "5\n"
     ]
    },
    {
     "data": {
      "text/latex": [
       "$\\left(h^{2} + 2\\right) {y}_{1} - {y}_{0} - {y}_{2} = h^{2} {x}_{1}$"
      ],
      "text/plain": [
       "Eq((h**2 + 2)*y[1] - y[0] - y[2], h**2*x[1])"
      ]
     },
     "metadata": {},
     "output_type": "display_data"
    },
    {
     "data": {
      "text/latex": [
       "$\\left(h^{2} + 2\\right) {y}_{2} - {y}_{1} - {y}_{3} = h^{2} {x}_{2}$"
      ],
      "text/plain": [
       "Eq((h**2 + 2)*y[2] - y[1] - y[3], h**2*x[2])"
      ]
     },
     "metadata": {},
     "output_type": "display_data"
    },
    {
     "data": {
      "text/latex": [
       "$\\left(h^{2} + 2\\right) {y}_{3} - {y}_{2} - {y}_{4} = h^{2} {x}_{3}$"
      ],
      "text/plain": [
       "Eq((h**2 + 2)*y[3] - y[2] - y[4], h**2*x[3])"
      ]
     },
     "metadata": {},
     "output_type": "display_data"
    },
    {
     "data": {
      "text/latex": [
       "$\\left(h^{2} + 2\\right) {y}_{4} - {y}_{3} - {y}_{5} = h^{2} {x}_{4}$"
      ],
      "text/plain": [
       "Eq((h**2 + 2)*y[4] - y[3] - y[5], h**2*x[4])"
      ]
     },
     "metadata": {},
     "output_type": "display_data"
    }
   ],
   "source": [
    "n=len(xv)-1\n",
    "print(n)\n",
    "eq = {}\n",
    "for k in range(1,n):\n",
    "    equation = grouped_equation.subs(i, k)\n",
    "    eq[k] = equation\n",
    "    display(eq[k])\n",
    "\n",
    "    \n"
   ]
  },
  {
   "cell_type": "markdown",
   "metadata": {},
   "source": [
    "Substituindo as eqs de y{0} e y{n}:"
   ]
  },
  {
   "cell_type": "code",
   "execution_count": 95,
   "metadata": {},
   "outputs": [
    {
     "data": {
      "text/latex": [
       "$h + \\left(h^{2} + 1\\right) {y}_{1} - {y}_{2} = h^{2} {x}_{1}$"
      ],
      "text/plain": [
       "Eq(h + (h**2 + 1)*y[1] - y[2], h**2*x[1])"
      ]
     },
     "metadata": {},
     "output_type": "display_data"
    },
    {
     "data": {
      "text/latex": [
       "$\\left(h^{2} + 1\\right) {y}_{1} - {y}_{2} = h^{2} {x}_{1} + h$"
      ],
      "text/plain": [
       "Eq((h**2 + 1)*y[1] - y[2], h**2*x[1] + h)"
      ]
     },
     "metadata": {},
     "output_type": "display_data"
    },
    {
     "data": {
      "text/latex": [
       "$\\left(h^{2} + 1\\right) {y}_{1} - {y}_{2} = h^{2} {x}_{1} + h$"
      ],
      "text/plain": [
       "Eq((h**2 + 1)*y[1] - y[2], h**2*x[1] + h)"
      ]
     },
     "metadata": {},
     "output_type": "display_data"
    },
    {
     "data": {
      "text/latex": [
       "$\\left(h^{2} + 2\\right) {y}_{2} - {y}_{1} - {y}_{3} = h^{2} {x}_{2}$"
      ],
      "text/plain": [
       "Eq((h**2 + 2)*y[2] - y[1] - y[3], h**2*x[2])"
      ]
     },
     "metadata": {},
     "output_type": "display_data"
    },
    {
     "data": {
      "text/latex": [
       "$\\left(h^{2} + 2\\right) {y}_{3} - {y}_{2} - {y}_{4} = h^{2} {x}_{3}$"
      ],
      "text/plain": [
       "Eq((h**2 + 2)*y[3] - y[2] - y[4], h**2*x[3])"
      ]
     },
     "metadata": {},
     "output_type": "display_data"
    },
    {
     "data": {
      "text/latex": [
       "$\\left(h^{2} + 2\\right) {y}_{4} - {y}_{3} - {y}_{5} = h^{2} {x}_{4}$"
      ],
      "text/plain": [
       "Eq((h**2 + 2)*y[4] - y[3] - y[5], h**2*x[4])"
      ]
     },
     "metadata": {},
     "output_type": "display_data"
    }
   ],
   "source": [
    "#Mudando a primeira equação\n",
    "n = len(eq)+1\n",
    "ylprog = ylprog.subs(i, 0)\n",
    "ylprog_lhs = ylprog.lhs.subs(y[0], y0)\n",
    "eq_substituted = Eq(ylprog_lhs, ylprog.rhs)\n",
    "equation_moved = Eq(ylprog_lhs * h, ylprog.rhs * h)\n",
    "eq_moved = Eq((-1)*(equation_moved.rhs-y[1]),(-1)*(equation_moved.lhs-y[1]))\n",
    "eqmoved = Eq(eq[1].lhs - eq_moved.rhs + eq_moved.lhs, eq[1].rhs)\n",
    "# Agrupando os elementos em comum\n",
    "common_y_terms = eqmoved.lhs.collect(y[1])\n",
    "remaining_terms = eqmoved.rhs\n",
    "# Equação discretizada final\n",
    "grouped_equation = Eq(common_y_terms, remaining_terms)\n",
    "display(grouped_equation)\n",
    "const = 1\n",
    "eq[1] = Eq(grouped_equation.lhs - const*h, grouped_equation.rhs + h) \n",
    "display(eq[1] )\n",
    "for k in range(1, len(eq)+1):\n",
    "    display(eq[k])"
   ]
  },
  {
   "cell_type": "code",
   "execution_count": 96,
   "metadata": {},
   "outputs": [
    {
     "data": {
      "text/latex": [
       "$\\left(h^{2} + 1\\right) {y}_{1} - {y}_{2} = h^{2} {x}_{1} + h$"
      ],
      "text/plain": [
       "Eq((h**2 + 1)*y[1] - y[2], h**2*x[1] + h)"
      ]
     },
     "metadata": {},
     "output_type": "display_data"
    },
    {
     "data": {
      "text/latex": [
       "$\\left(h^{2} + 2\\right) {y}_{2} - {y}_{1} - {y}_{3} = h^{2} {x}_{2}$"
      ],
      "text/plain": [
       "Eq((h**2 + 2)*y[2] - y[1] - y[3], h**2*x[2])"
      ]
     },
     "metadata": {},
     "output_type": "display_data"
    },
    {
     "data": {
      "text/latex": [
       "$\\left(h^{2} + 2\\right) {y}_{3} - {y}_{2} - {y}_{4} = h^{2} {x}_{3}$"
      ],
      "text/plain": [
       "Eq((h**2 + 2)*y[3] - y[2] - y[4], h**2*x[3])"
      ]
     },
     "metadata": {},
     "output_type": "display_data"
    },
    {
     "data": {
      "text/latex": [
       "$\\left(h^{2} + 1\\right) {y}_{4} - {y}_{3} = h^{2} {x}_{4} + h$"
      ],
      "text/plain": [
       "Eq((h**2 + 1)*y[4] - y[3], h**2*x[4] + h)"
      ]
     },
     "metadata": {},
     "output_type": "display_data"
    }
   ],
   "source": [
    "#Mudando a ultima equação\n",
    "n = len(eq)+1\n",
    "ylregr = ylregr.subs(i, n)\n",
    "ylregr_lhs = ylregr.lhs.subs(y[n], y1)\n",
    "eq_substituted = Eq(ylregr_lhs, ylregr.rhs)\n",
    "equation_moved = Eq(ylregr_lhs * h, ylregr.rhs * h)\n",
    "eq_moved = Eq(equation_moved.rhs + y[n-1],equation_moved.lhs+y[n-1])\n",
    "#substituindo na ultima equacao\n",
    "eqmoved = Eq(eq[n-1].lhs - eq_moved.rhs + eq_moved.lhs, eq[n-1].rhs)\n",
    "# Agrupando os elementos em comum\n",
    "common_y_terms = eqmoved.lhs.collect(y[n-1])\n",
    "remaining_terms = eqmoved.rhs\n",
    "\n",
    "# Equação discretizada final\n",
    "grouped_equation = Eq(common_y_terms, remaining_terms)\n",
    "#display(grouped_equation)\n",
    "eq[n-1] = Eq(grouped_equation.lhs - h, grouped_equation.rhs + h) \n",
    "\n",
    "for k in range(1, len(eq)+1):\n",
    "    display(eq[k])"
   ]
  },
  {
   "cell_type": "code",
   "execution_count": 97,
   "metadata": {},
   "outputs": [],
   "source": [
    "matrix = [[0 for _ in range(n-1)] for _ in range(n-1)]\n",
    "matrix\n",
    "for i in range(1,n):\n",
    "   # print(\"Eq \", i, \"---------------\")\n",
    "    for j in range(len(eq[i].args[0].args)): #len(eq[2].args[0].args) é a qtd de y que tenho\n",
    "        if eq[i].args[0].args[j].args[1].args[1] == 1:\n",
    "            matrix[i-1][0] = eq[i].args[0].args[j].args[0]\n",
    "        if eq[i].args[0].args[j].args[1].args[1] == 2:\n",
    "            matrix[i-1][1] = eq[i].args[0].args[j].args[0]\n",
    "        if eq[i].args[0].args[j].args[1].args[1] == 3:\n",
    "            matrix[i-1][2] = eq[i].args[0].args[j].args[0]\n",
    "        if eq[i].args[0].args[j].args[1].args[1] == 4:\n",
    "            matrix[i-1][3] = eq[i].args[0].args[j].args[0]\n",
    "left = []\n",
    "for i in range(1,n):\n",
    "    left.append(eq[i].rhs)\n",
    "   \n"
   ]
  },
  {
   "cell_type": "code",
   "execution_count": 98,
   "metadata": {},
   "outputs": [
    {
     "name": "stdout",
     "output_type": "stream",
     "text": [
      "Meu Sistema NEWMAN:\n"
     ]
    },
    {
     "data": {
      "text/latex": [
       "$\\displaystyle \\left[\\begin{matrix}h^{2} + 1 & -1 & 0 & 0\\\\-1 & h^{2} + 2 & -1 & 0\\\\0 & -1 & h^{2} + 2 & -1\\\\0 & 0 & -1 & h^{2} + 1\\end{matrix}\\right]$"
      ],
      "text/plain": [
       "Matrix([\n",
       "[h**2 + 1,       -1,        0,        0],\n",
       "[      -1, h**2 + 2,       -1,        0],\n",
       "[       0,       -1, h**2 + 2,       -1],\n",
       "[       0,        0,       -1, h**2 + 1]])"
      ]
     },
     "metadata": {},
     "output_type": "display_data"
    },
    {
     "data": {
      "text/latex": [
       "$\\displaystyle \\left[\\begin{matrix}h^{2} {x}_{1} + h\\\\h^{2} {x}_{2}\\\\h^{2} {x}_{3}\\\\h^{2} {x}_{4} + h\\end{matrix}\\right]$"
      ],
      "text/plain": [
       "Matrix([\n",
       "[h**2*x[1] + h],\n",
       "[    h**2*x[2]],\n",
       "[    h**2*x[3]],\n",
       "[h**2*x[4] + h]])"
      ]
     },
     "metadata": {},
     "output_type": "display_data"
    },
    {
     "name": "stdout",
     "output_type": "stream",
     "text": [
      "Meu Sistema:\n"
     ]
    },
    {
     "data": {
      "text/latex": [
       "$\\displaystyle \\left[\\begin{matrix}1.0625 & -1 & 0 & 0\\\\-1 & 2.0625 & -1 & 0\\\\0 & -1 & 2.0625 & -1\\\\0 & 0 & -1 & 1.0625\\end{matrix}\\right]$"
      ],
      "text/plain": [
       "Matrix([\n",
       "[1.0625,     -1,      0,      0],\n",
       "[    -1, 2.0625,     -1,      0],\n",
       "[     0,     -1, 2.0625,     -1],\n",
       "[     0,      0,     -1, 1.0625]])"
      ]
     },
     "metadata": {},
     "output_type": "display_data"
    },
    {
     "data": {
      "text/latex": [
       "$\\displaystyle \\left[\\begin{matrix}0.265625\\\\0.03125\\\\0.046875\\\\0.3125\\end{matrix}\\right]$"
      ],
      "text/plain": [
       "Matrix([\n",
       "[0.265625],\n",
       "[ 0.03125],\n",
       "[0.046875],\n",
       "[  0.3125]])"
      ]
     },
     "metadata": {},
     "output_type": "display_data"
    }
   ],
   "source": [
    "A = np.array(matrix.copy())\n",
    "for i in range(len(matrix)):\n",
    "    A[i, i] = A[i, i].subs(h, 0.25)\n",
    "\n",
    "B = np.array(left.copy())\n",
    "for i in range(len(matrix)):\n",
    "    B[i] = B[i].subs(h, 0.25)\n",
    "    B[i] = B[i].subs(x[i+1],xv[i+1])\n",
    "\n",
    "matrix_aumentada = np.concatenate((Matrix(A),Matrix(B)), axis=1)\n",
    "\n",
    "print(\"Meu Sistema NEWMAN:\")\n",
    "display(Matrix(matrix))\n",
    "display(Matrix(left))\n",
    "    \n",
    "print(\"Meu Sistema:\")\n",
    "display(Matrix(A))\n",
    "display(Matrix(B))"
   ]
  },
  {
   "cell_type": "code",
   "execution_count": 99,
   "metadata": {},
   "outputs": [
    {
     "name": "stdout",
     "output_type": "stream",
     "text": [
      "SOLUÇÃO NEWMAN\n",
      "Solução\n",
      "x 1 = 0.3697\n",
      "x 2 = 0.1272\n",
      "x 3 = 0.0801\n",
      "x 4 = 0.0\n"
     ]
    }
   ],
   "source": [
    "from thomas_system_solve import thomas\n",
    "print(\"SOLUÇÃO NEWMAN\")\n",
    "thomas(matrix_aumentada)\n"
   ]
  }
 ],
 "metadata": {
  "kernelspec": {
   "display_name": "Python 3",
   "language": "python",
   "name": "python3"
  },
  "language_info": {
   "codemirror_mode": {
    "name": "ipython",
    "version": 3
   },
   "file_extension": ".py",
   "mimetype": "text/x-python",
   "name": "python",
   "nbconvert_exporter": "python",
   "pygments_lexer": "ipython3",
   "version": "3.12.2"
  }
 },
 "nbformat": 4,
 "nbformat_minor": 2
}
