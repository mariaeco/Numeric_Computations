{
 "cells": [
  {
   "cell_type": "markdown",
   "metadata": {},
   "source": [
    "# **METÓDOS DAS DIFERENÇAS FINITAS** \n",
    "\n",
    "PROBLEMAS DE CONTORNO\n"
   ]
  },
  {
   "cell_type": "code",
   "execution_count": 2729,
   "metadata": {},
   "outputs": [],
   "source": [
    "from sympy import symbols, IndexedBase, Sum, Eqn, simplify\n",
    "import numpy as np\n",
    "from algebra_with_sympy import *\n"
   ]
  },
  {
   "cell_type": "code",
   "execution_count": 2730,
   "metadata": {},
   "outputs": [
    {
     "data": {
      "text/latex": [
       "${y}_{i}=\\frac{{y}_{i + 1} + {y}_{i - 1} - 2 {y}_{i}}{h^{2}}\\,\\,\\,\\,\\,\\,\\,\\,\\,\\,(\\text{yll})$"
      ],
      "text/plain": [
       "Equation(y[i], (y[i + 1] + y[i - 1] - 2*y[i])/h**2)"
      ]
     },
     "metadata": {},
     "output_type": "display_data"
    },
    {
     "data": {
      "text/latex": [
       "${y}_{i}=\\frac{{y}_{i + 1} - {y}_{i}}{h}\\,\\,\\,\\,\\,\\,\\,\\,\\,\\,(\\text{ylprog})$"
      ],
      "text/plain": [
       "Equation(y[i], (y[i + 1] - y[i])/h)"
      ]
     },
     "metadata": {},
     "output_type": "display_data"
    },
    {
     "data": {
      "text/latex": [
       "${y}_{i}=\\frac{- {y}_{i - 1} + {y}_{i}}{h}\\,\\,\\,\\,\\,\\,\\,\\,\\,\\,(\\text{ylregr})$"
      ],
      "text/plain": [
       "Equation(y[i], (-y[i - 1] + y[i])/h)"
      ]
     },
     "metadata": {},
     "output_type": "display_data"
    },
    {
     "data": {
      "text/latex": [
       "${y}_{i}=\\frac{{y}_{i + 1} - {y}_{i - 1}}{2 h}\\,\\,\\,\\,\\,\\,\\,\\,\\,\\,(\\text{ylcent})$"
      ],
      "text/plain": [
       "Equation(y[i], (y[i + 1] - y[i - 1])/(2*h))"
      ]
     },
     "metadata": {},
     "output_type": "display_data"
    }
   ],
   "source": [
    "i, h, z = symbols('i h z')\n",
    "y = IndexedBase('y')\n",
    "x = IndexedBase('x')\n",
    "\n",
    "yll = Eqn(y[i] ,(y[i+1]-2*y[i]+y[i-1])/(h**2)) \n",
    "ylprog = Eqn(y[i],((y[i+1]-y[i])/h))\n",
    "ylregr = Eqn(y[i],((y[i]-y[i-1])/h))\n",
    "ylcent = Eqn(y[i],((y[i+1]-y[i-1])/(2*h)))\n",
    "\n",
    "display(yll, ylprog, ylregr, ylcent)\n"
   ]
  },
  {
   "cell_type": "markdown",
   "metadata": {},
   "source": [
    "**Discretizando**"
   ]
  },
  {
   "cell_type": "code",
   "execution_count": 2731,
   "metadata": {},
   "outputs": [
    {
     "data": {
      "text/latex": [
       "${y}_{i} - \\frac{{y}_{i + 1} + {y}_{i - 1} - 2 {y}_{i}}{h^{2}}={x}_{i}\\,\\,\\,\\,\\,\\,\\,\\,\\,\\,(\\text{edo})$"
      ],
      "text/plain": [
       "Equation(y[i] - (y[i + 1] + y[i - 1] - 2*y[i])/h**2, x[i])"
      ]
     },
     "execution_count": 2731,
     "metadata": {},
     "output_type": "execute_result"
    }
   ],
   "source": [
    "edo = Eqn(-yll.rhs + y[i], x[i])  #pegando o lado direito da equação yll e aplicando na função\n",
    "edo"
   ]
  },
  {
   "cell_type": "code",
   "execution_count": 2732,
   "metadata": {},
   "outputs": [
    {
     "data": {
      "text/latex": [
       "$h^{2} {y}_{i} - {y}_{i + 1} - {y}_{i - 1} + 2 {y}_{i}=h^{2} {x}_{i}\\,\\,\\,\\,\\,\\,\\,\\,\\,\\,(\\text{edo})$"
      ],
      "text/plain": [
       "Equation(h**2*y[i] - y[i + 1] - y[i - 1] + 2*y[i], h**2*x[i])"
      ]
     },
     "execution_count": 2732,
     "metadata": {},
     "output_type": "execute_result"
    }
   ],
   "source": [
    "edo = simplify(edo)*h**2\n",
    "edo"
   ]
  },
  {
   "cell_type": "code",
   "execution_count": 2733,
   "metadata": {},
   "outputs": [
    {
     "data": {
      "text/latex": [
       "$\\left(h^{2} + 2\\right) {y}_{i} - {y}_{i + 1} - {y}_{i - 1} = h^{2} {x}_{i}$"
      ],
      "text/plain": [
       "Eq((h**2 + 2)*y[i] - y[i + 1] - y[i - 1], h**2*x[i])"
      ]
     },
     "execution_count": 2733,
     "metadata": {},
     "output_type": "execute_result"
    }
   ],
   "source": [
    "# Agrupando os elementos em comum\n",
    "common_y_terms = edo.lhs.collect(y[i])\n",
    "remaining_terms = edo.rhs\n",
    "\n",
    "# Equação discretizada final\n",
    "grouped_equation = Eq(common_y_terms, remaining_terms)\n",
    "grouped_equation"
   ]
  },
  {
   "cell_type": "markdown",
   "metadata": {},
   "source": [
    "# Condição de Robin\n",
    "Tenho aqui o meu vetor com h=0.25\n",
    "| i |  x  | y |\n",
    "| --- | --- | --- |\n",
    "| 0 | 0.00 | -1  |\n",
    "| 1 | 0.25 |     |\n",
    "| 2 | 0.50 |     |\n",
    "| 3 | 0.75 |     |\n",
    "| 4 | 1.00 |     |"
   ]
  },
  {
   "cell_type": "code",
   "execution_count": 2734,
   "metadata": {},
   "outputs": [],
   "source": [
    "#Meus vetores\n",
    "xv  = [0, 0.25, 0.50, 0.75, 1]\n",
    "yv  = [-1, nan, nan, nan, nan]"
   ]
  },
  {
   "cell_type": "code",
   "execution_count": 2735,
   "metadata": {},
   "outputs": [
    {
     "data": {
      "text/latex": [
       "$\\left(h^{2} + 2\\right) {y}_{1} - {y}_{0} - {y}_{2} = h^{2} {x}_{1}$"
      ],
      "text/plain": [
       "Eq((h**2 + 2)*y[1] - y[0] - y[2], h**2*x[1])"
      ]
     },
     "metadata": {},
     "output_type": "display_data"
    },
    {
     "data": {
      "text/latex": [
       "$\\left(h^{2} + 2\\right) {y}_{2} - {y}_{1} - {y}_{3} = h^{2} {x}_{2}$"
      ],
      "text/plain": [
       "Eq((h**2 + 2)*y[2] - y[1] - y[3], h**2*x[2])"
      ]
     },
     "metadata": {},
     "output_type": "display_data"
    },
    {
     "data": {
      "text/latex": [
       "$\\left(h^{2} + 2\\right) {y}_{3} - {y}_{2} - {y}_{4} = h^{2} {x}_{3}$"
      ],
      "text/plain": [
       "Eq((h**2 + 2)*y[3] - y[2] - y[4], h**2*x[3])"
      ]
     },
     "metadata": {},
     "output_type": "display_data"
    }
   ],
   "source": [
    "n=4\n",
    "eq = {}\n",
    "for k in range(1,n):\n",
    "    equation = grouped_equation.subs(i, k)\n",
    "    eq[k] = equation\n",
    "    display(eq[k])\n",
    "\n",
    "    \n"
   ]
  },
  {
   "cell_type": "markdown",
   "metadata": {},
   "source": [
    "Substituindo o valor de y{0}:"
   ]
  },
  {
   "cell_type": "code",
   "execution_count": 2736,
   "metadata": {},
   "outputs": [
    {
     "data": {
      "text/latex": [
       "$\\left(h^{2} + 2.0\\right) {y}_{1} - {y}_{2} + 1.0 = h^{2} {x}_{1}$"
      ],
      "text/plain": [
       "Eq((h**2 + 2.0)*y[1] - y[2] + 1.0, h**2*x[1])"
      ]
     },
     "metadata": {},
     "output_type": "display_data"
    },
    {
     "data": {
      "text/latex": [
       "$\\left(h^{2} + 2.0\\right) {y}_{2} - {y}_{1} - {y}_{3} = h^{2} {x}_{2}$"
      ],
      "text/plain": [
       "Eq((h**2 + 2.0)*y[2] - y[1] - y[3], h**2*x[2])"
      ]
     },
     "metadata": {},
     "output_type": "display_data"
    },
    {
     "data": {
      "text/latex": [
       "$\\left(h^{2} + 2.0\\right) {y}_{3} - {y}_{2} - {y}_{4} = h^{2} {x}_{3}$"
      ],
      "text/plain": [
       "Eq((h**2 + 2.0)*y[3] - y[2] - y[4], h**2*x[3])"
      ]
     },
     "metadata": {},
     "output_type": "display_data"
    }
   ],
   "source": [
    "z = yv[0] #valor inicial y0 que temos\n",
    "for k in range(1, len(eq)+1):\n",
    "    eq[k] = eq[k].evalf(4, subs={y[0]: z})\n",
    "    display(eq[k])\n",
    "\n"
   ]
  },
  {
   "cell_type": "code",
   "execution_count": 2737,
   "metadata": {},
   "outputs": [
    {
     "data": {
      "text/latex": [
       "$\\left(h^{2} + 2.0\\right) {y}_{1} - {y}_{2} = h^{2} {x}_{1} - 1$"
      ],
      "text/plain": [
       "Eq((h**2 + 2.0)*y[1] - y[2], h**2*x[1] - 1)"
      ]
     },
     "execution_count": 2737,
     "metadata": {},
     "output_type": "execute_result"
    }
   ],
   "source": [
    "#Colocando o valor y0 para o outro lado da equação\n",
    "#Neste caso só preciso mudar a primeira Equação\n",
    "common_y_terms = eq[1].lhs.collect(y[i])\n",
    "remaining_terms = eq[1].rhs\n",
    "eq[1] = Eq(common_y_terms + z, remaining_terms+z) #aqui estou jogando o valor de y0 para o outro lado\n",
    "eq[1]"
   ]
  },
  {
   "cell_type": "code",
   "execution_count": 2738,
   "metadata": {},
   "outputs": [],
   "source": [
    "#Se tenho o primeiro valor, então procedo com a Diferença Finita Regressiva"
   ]
  },
  {
   "cell_type": "code",
   "execution_count": 2739,
   "metadata": {},
   "outputs": [
    {
     "data": {
      "text/latex": [
       "$1 = \\frac{- {y}_{3} + {y}_{4}}{h}$"
      ],
      "text/plain": [
       "Eq(1, (-y[3] + y[4])/h)"
      ]
     },
     "execution_count": 2739,
     "metadata": {},
     "output_type": "execute_result"
    }
   ],
   "source": [
    "n = len(eq)+1\n",
    "ylregr = ylregr.subs(i, n)\n",
    "ylregr_lhs = ylregr.lhs.subs(y[n], xv[n])\n",
    "eq_substituted = Eq(ylregr_lhs, ylregr.rhs)\n",
    "eq_substituted"
   ]
  },
  {
   "cell_type": "code",
   "execution_count": 2740,
   "metadata": {},
   "outputs": [
    {
     "data": {
      "text/latex": [
       "$h = - {y}_{3} + {y}_{4}$"
      ],
      "text/plain": [
       "Eq(h, -y[3] + y[4])"
      ]
     },
     "execution_count": 2740,
     "metadata": {},
     "output_type": "execute_result"
    }
   ],
   "source": [
    "# Construindo a nova equação com h do outro lado\n",
    "equation_moved = Eq(ylregr_lhs * h, ylregr.rhs * h)\n",
    "equation_moved"
   ]
  },
  {
   "cell_type": "code",
   "execution_count": 2741,
   "metadata": {},
   "outputs": [
    {
     "data": {
      "text/latex": [
       "${y}_{4} = h + {y}_{3}$"
      ],
      "text/plain": [
       "Eq(y[4], h + y[3])"
      ]
     },
     "execution_count": 2741,
     "metadata": {},
     "output_type": "execute_result"
    }
   ],
   "source": [
    "# Movendo y[i-1] para o lado esquerdo da equação\n",
    "eq_moved = Eq(equation_moved.rhs + y[n-1],equation_moved.lhs+y[n-1])\n",
    "eq_moved"
   ]
  },
  {
   "cell_type": "code",
   "execution_count": 2742,
   "metadata": {},
   "outputs": [
    {
     "data": {
      "text/latex": [
       "$- h + \\left(h^{2} + 2.0\\right) {y}_{3} - {y}_{2} - {y}_{3} = h^{2} {x}_{3}$"
      ],
      "text/plain": [
       "Eq(-h + (h**2 + 2.0)*y[3] - y[2] - y[3], h**2*x[3])"
      ]
     },
     "execution_count": 2742,
     "metadata": {},
     "output_type": "execute_result"
    }
   ],
   "source": [
    "#substituindo na ultima equacao\n",
    "eqmoved = Eq(eq[n-1].lhs - eq_moved.rhs + eq_moved.lhs, eq[n-1].rhs)\n",
    "eqmoved"
   ]
  },
  {
   "cell_type": "code",
   "execution_count": 2743,
   "metadata": {},
   "outputs": [
    {
     "data": {
      "text/latex": [
       "$- h + \\left(h^{2} + 1.0\\right) {y}_{3} - {y}_{2} = h^{2} {x}_{3}$"
      ],
      "text/plain": [
       "Eq(-h + (h**2 + 1.0)*y[3] - y[2], h**2*x[3])"
      ]
     },
     "execution_count": 2743,
     "metadata": {},
     "output_type": "execute_result"
    }
   ],
   "source": [
    "# Agrupando os elementos em comum\n",
    "common_y_terms = eqmoved.lhs.collect(y[n-1])\n",
    "remaining_terms = eqmoved.rhs\n",
    "\n",
    "# Equação discretizada final\n",
    "grouped_equation = Eq(common_y_terms, remaining_terms)\n",
    "grouped_equation"
   ]
  },
  {
   "cell_type": "code",
   "execution_count": 2744,
   "metadata": {},
   "outputs": [
    {
     "data": {
      "text/latex": [
       "$\\left(h^{2} + 1.0\\right) {y}_{3} - {y}_{2} = h^{2} {x}_{3} + h$"
      ],
      "text/plain": [
       "Eq((h**2 + 1.0)*y[3] - y[2], h**2*x[3] + h)"
      ]
     },
     "execution_count": 2744,
     "metadata": {},
     "output_type": "execute_result"
    }
   ],
   "source": [
    "#movendo o h para o outro lado e finalizando a ultima equação\n",
    "eq[n-1] = Eq(grouped_equation.lhs + h, grouped_equation.rhs + h) \n",
    "eq[n-1] "
   ]
  },
  {
   "cell_type": "code",
   "execution_count": 2745,
   "metadata": {},
   "outputs": [
    {
     "data": {
      "text/latex": [
       "$\\left(h^{2} + 2.0\\right) {y}_{1} - {y}_{2} = h^{2} {x}_{1} - 1$"
      ],
      "text/plain": [
       "Eq((h**2 + 2.0)*y[1] - y[2], h**2*x[1] - 1)"
      ]
     },
     "metadata": {},
     "output_type": "display_data"
    },
    {
     "data": {
      "text/latex": [
       "$\\left(h^{2} + 2.0\\right) {y}_{2} - {y}_{1} - {y}_{3} = h^{2} {x}_{2}$"
      ],
      "text/plain": [
       "Eq((h**2 + 2.0)*y[2] - y[1] - y[3], h**2*x[2])"
      ]
     },
     "metadata": {},
     "output_type": "display_data"
    },
    {
     "data": {
      "text/latex": [
       "$\\left(h^{2} + 1.0\\right) {y}_{3} - {y}_{2} = h^{2} {x}_{3} + h$"
      ],
      "text/plain": [
       "Eq((h**2 + 1.0)*y[3] - y[2], h**2*x[3] + h)"
      ]
     },
     "metadata": {},
     "output_type": "display_data"
    }
   ],
   "source": [
    "for k in range(1, len(eq)+1):\n",
    "    display(eq[k])\n"
   ]
  },
  {
   "cell_type": "code",
   "execution_count": 2756,
   "metadata": {},
   "outputs": [
    {
     "name": "stdout",
     "output_type": "stream",
     "text": [
      "Minha Matriz:\n"
     ]
    },
    {
     "data": {
      "text/latex": [
       "$\\displaystyle \\left[\\begin{matrix}h^{2} + 2.0 & -1 & 0\\\\-1 & h^{2} + 2.0 & -1\\\\0 & -1 & h^{2} + 1.0\\end{matrix}\\right]$"
      ],
      "text/plain": [
       "Matrix([\n",
       "[h**2 + 2.0,         -1,          0],\n",
       "[        -1, h**2 + 2.0,         -1],\n",
       "[         0,         -1, h**2 + 1.0]])"
      ]
     },
     "metadata": {},
     "output_type": "display_data"
    },
    {
     "data": {
      "text/latex": [
       "$\\displaystyle \\left[\\begin{matrix}h^{2} {x}_{1} - 1\\\\h^{2} {x}_{2}\\\\h^{2} {x}_{3} + h\\end{matrix}\\right]$"
      ],
      "text/plain": [
       "Matrix([\n",
       "[h**2*x[1] - 1],\n",
       "[    h**2*x[2]],\n",
       "[h**2*x[3] + h]])"
      ]
     },
     "metadata": {},
     "output_type": "display_data"
    }
   ],
   "source": [
    "matrix = [[0 for _ in range(n-1)] for _ in range(n-1)]\n",
    "matrix\n",
    "for i in range(1,n):\n",
    "   # print(\"Eq \", i, \"---------------\")\n",
    "    for j in range(len(eq[i].args[0].args)): #len(eq[2].args[0].args) é a qtd de y que tenho\n",
    "    #    print(eq[i].args[0].args[j])\n",
    "        if eq[i].args[0].args[j].args[1].args[1] == 1:\n",
    "            matrix[i-1][0] = eq[i].args[0].args[j].args[0]\n",
    "        if eq[i].args[0].args[j].args[1].args[1] == 2:\n",
    "            matrix[i-1][1] = eq[i].args[0].args[j].args[0]\n",
    "        if eq[i].args[0].args[j].args[1].args[1] == 3:\n",
    "            matrix[i-1][2] = eq[i].args[0].args[j].args[0]\n",
    "\n",
    "left = []\n",
    "for i in range(1,n):\n",
    "    left.append(eq[i].rhs)\n",
    "    \n",
    "\n",
    "print(\"Minha Matriz:\")\n",
    "display(Matrix(matrix))\n",
    "display(Matrix(left))"
   ]
  }
 ],
 "metadata": {
  "kernelspec": {
   "display_name": "Python 3",
   "language": "python",
   "name": "python3"
  },
  "language_info": {
   "codemirror_mode": {
    "name": "ipython",
    "version": 3
   },
   "file_extension": ".py",
   "mimetype": "text/x-python",
   "name": "python",
   "nbconvert_exporter": "python",
   "pygments_lexer": "ipython3",
   "version": "3.12.2"
  }
 },
 "nbformat": 4,
 "nbformat_minor": 2
}
