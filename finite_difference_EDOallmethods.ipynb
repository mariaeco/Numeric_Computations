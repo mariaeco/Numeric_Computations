{
 "cells": [
  {
   "cell_type": "markdown",
   "metadata": {},
   "source": [
    "# **METÓDOS DAS DIFERENÇAS FINITAS** \n",
    "\n",
    "PROBLEMAS DE CONTORNO\n"
   ]
  },
  {
   "cell_type": "markdown",
   "metadata": {},
   "source": [
    "# Condição de Robin\n",
    "Tenho aqui o meu vetor com h=0.25\n",
    "\n",
    "| i |  x  | y |      \n",
    "| --- | --- | --- |  \n",
    "| 0 | 0.00 | -1  |\n",
    "| 1 | 0.25 |     |\n",
    "| 2 | 0.50 |     |\n",
    "| 3 | 0.75 |     |\n",
    "| 4 | 1.00 |     |\n",
    "| 5 | 1.25 |     |\n",
    "\n",
    "E, dado:\n",
    "y'(1.25) = 1  e   y (0) = -1\n",
    "\n",
    "# Condição de Dirichlet\n",
    "\n",
    "| i |  x  | y |      \n",
    "| --- | --- | --- |  \n",
    "| 0 | 0.00 |  1  |\n",
    "| 1 | 0.25 |     |\n",
    "| 2 | 0.50 |     |\n",
    "| 3 | 0.75 |     |\n",
    "| 4 | 1.00 |     |\n",
    "| 5 | 1.25 | -1  |\n",
    "\n",
    "E, dado:\n",
    "y(0) = 1   e   y(1.25) = -1\n",
    "\n",
    "# Condição de Newman\n",
    "| i |  x  | y |      \n",
    "| --- | --- | --- |  \n",
    "| 0 | 0.00 |     |\n",
    "| 1 | 0.25 |     |\n",
    "| 2 | 0.50 |     |\n",
    "| 3 | 0.75 |     |\n",
    "| 4 | 1.00 |     |\n",
    "| 5 | 1.25 |     |\n",
    "\n",
    "E, dado:\n",
    "y'(0) = 1   e   y'(1.25) = -1"
   ]
  },
  {
   "cell_type": "code",
   "execution_count": 27,
   "metadata": {},
   "outputs": [],
   "source": [
    "from sympy import symbols, IndexedBase, Sum, Eqn, simplify\n",
    "import numpy as np\n",
    "from algebra_with_sympy import *\n",
    "from functions_algebricmanipulations import*\n"
   ]
  },
  {
   "cell_type": "code",
   "execution_count": 28,
   "metadata": {},
   "outputs": [
    {
     "data": {
      "text/latex": [
       "${y}_{i}=\\frac{{y}_{i + 1} + {y}_{i - 1} - 2 {y}_{i}}{h^{2}}\\,\\,\\,\\,\\,\\,\\,\\,\\,\\,(\\text{yll})$"
      ],
      "text/plain": [
       "Equation(y[i], (y[i + 1] + y[i - 1] - 2*y[i])/h**2)"
      ]
     },
     "metadata": {},
     "output_type": "display_data"
    },
    {
     "data": {
      "text/latex": [
       "${y}_{i}=\\frac{{y}_{i + 1} - {y}_{i}}{h}\\,\\,\\,\\,\\,\\,\\,\\,\\,\\,(\\text{ylprog})$"
      ],
      "text/plain": [
       "Equation(y[i], (y[i + 1] - y[i])/h)"
      ]
     },
     "metadata": {},
     "output_type": "display_data"
    },
    {
     "data": {
      "text/latex": [
       "${y}_{i}=\\frac{- {y}_{i - 1} + {y}_{i}}{h}\\,\\,\\,\\,\\,\\,\\,\\,\\,\\,(\\text{ylregr})$"
      ],
      "text/plain": [
       "Equation(y[i], (-y[i - 1] + y[i])/h)"
      ]
     },
     "metadata": {},
     "output_type": "display_data"
    },
    {
     "data": {
      "text/latex": [
       "${y}_{i}=\\frac{{y}_{i + 1} - {y}_{i - 1}}{2 h}\\,\\,\\,\\,\\,\\,\\,\\,\\,\\,(\\text{ylcent})$"
      ],
      "text/plain": [
       "Equation(y[i], (y[i + 1] - y[i - 1])/(2*h))"
      ]
     },
     "metadata": {},
     "output_type": "display_data"
    }
   ],
   "source": [
    "i, h, z = symbols('i h z')\n",
    "y = IndexedBase('y')\n",
    "x = IndexedBase('x')\n",
    "\n",
    "yll = Eqn(y[i] ,(y[i+1]-2*y[i]+y[i-1])/(h**2)) \n",
    "ylprog = Eqn(y[i],((y[i+1]-y[i])/h))\n",
    "ylregr = Eqn(y[i],((y[i]-y[i-1])/h))\n",
    "ylcent = Eqn(y[i],((y[i+1]-y[i-1])/(2*h)))\n",
    "\n",
    "display(yll, ylprog, ylregr, ylcent)\n"
   ]
  },
  {
   "attachments": {
    "image.png": {
     "image/png": "[encoded data removed]"
    }
   },
   "cell_type": "markdown",
   "metadata": {},
   "source": [
    "**Discretizando**\n",
    "\n",
    "![image.png](attachment:image.png)"
   ]
  },
  {
   "cell_type": "code",
   "execution_count": 29,
   "metadata": {},
   "outputs": [
    {
     "data": {
      "text/latex": [
       "$\\left(h^{2} + 2\\right) {y}_{i} - {y}_{i + 1} - {y}_{i - 1} = h^{2} {x}_{i}$"
      ],
      "text/plain": [
       "Eq((h**2 + 2)*y[i] - y[i + 1] - y[i - 1], h**2*x[i])"
      ]
     },
     "execution_count": 29,
     "metadata": {},
     "output_type": "execute_result"
    }
   ],
   "source": [
    "edo = Eqn(-yll.rhs + y[i], x[i])  #pegando o lado direito da equação yll e aplicando na função\n",
    "edo = simplify(edo)*h**2\n",
    "# Agrupando os elementos em comum\n",
    "common_y_terms = edo.lhs.collect(y[i])\n",
    "remaining_terms = edo.rhs\n",
    "\n",
    "# Equação discretizada final\n",
    "eq_geral = Eq(common_y_terms, remaining_terms)\n",
    "eq_geral"
   ]
  },
  {
   "cell_type": "code",
   "execution_count": 30,
   "metadata": {},
   "outputs": [
    {
     "data": {
      "text/latex": [
       "$\\left(h^{2} + 2\\right) {y}_{1} - {y}_{0} - {y}_{2} = h^{2} {x}_{1}$"
      ],
      "text/plain": [
       "Eq((h**2 + 2)*y[1] - y[0] - y[2], h**2*x[1])"
      ]
     },
     "metadata": {},
     "output_type": "display_data"
    },
    {
     "data": {
      "text/latex": [
       "$\\left(h^{2} + 2\\right) {y}_{2} - {y}_{1} - {y}_{3} = h^{2} {x}_{2}$"
      ],
      "text/plain": [
       "Eq((h**2 + 2)*y[2] - y[1] - y[3], h**2*x[2])"
      ]
     },
     "metadata": {},
     "output_type": "display_data"
    },
    {
     "data": {
      "text/latex": [
       "$\\left(h^{2} + 2\\right) {y}_{3} - {y}_{2} - {y}_{4} = h^{2} {x}_{3}$"
      ],
      "text/plain": [
       "Eq((h**2 + 2)*y[3] - y[2] - y[4], h**2*x[3])"
      ]
     },
     "metadata": {},
     "output_type": "display_data"
    },
    {
     "data": {
      "text/latex": [
       "$\\left(h^{2} + 2\\right) {y}_{4} - {y}_{3} - {y}_{5} = h^{2} {x}_{4}$"
      ],
      "text/plain": [
       "Eq((h**2 + 2)*y[4] - y[3] - y[5], h**2*x[4])"
      ]
     },
     "metadata": {},
     "output_type": "display_data"
    }
   ],
   "source": [
    "eq = criaEq(eq_geral)\n",
    "for i in range(1,len(eq)+1):\n",
    "     display(eq[i])\n"
   ]
  },
  {
   "cell_type": "code",
   "execution_count": 31,
   "metadata": {},
   "outputs": [],
   "source": [
    "#Meus vetores\n",
    "y0 = 1\n",
    "y1 = -1\n",
    "xv  = [0, 0.25, 0.50, 0.75, 1, 1.25]\n",
    "yv  = [1, nan, nan, nan, nan,-1]"
   ]
  },
  {
   "cell_type": "markdown",
   "metadata": {},
   "source": [
    "# Aplicando o método de Robin"
   ]
  },
  {
   "cell_type": "markdown",
   "metadata": {},
   "source": [
    "1 ponto e 1 derivada\n",
    "\n",
    "Substituindo o valor de y{0} e y'{1}:"
   ]
  },
  {
   "cell_type": "code",
   "execution_count": 32,
   "metadata": {},
   "outputs": [
    {
     "data": {
      "text/latex": [
       "$\\left(h^{2} + 2.0\\right) {y}_{1} - {y}_{2} = h^{2} {x}_{1} + 1$"
      ],
      "text/plain": [
       "Eq((h**2 + 2.0)*y[1] - y[2], h**2*x[1] + 1)"
      ]
     },
     "metadata": {},
     "output_type": "display_data"
    },
    {
     "data": {
      "text/latex": [
       "$\\left(h^{2} + 2\\right) {y}_{2} - {y}_{1} - {y}_{3} = h^{2} {x}_{2}$"
      ],
      "text/plain": [
       "Eq((h**2 + 2)*y[2] - y[1] - y[3], h**2*x[2])"
      ]
     },
     "metadata": {},
     "output_type": "display_data"
    },
    {
     "data": {
      "text/latex": [
       "$\\left(h^{2} + 2\\right) {y}_{3} - {y}_{2} - {y}_{4} = h^{2} {x}_{3}$"
      ],
      "text/plain": [
       "Eq((h**2 + 2)*y[3] - y[2] - y[4], h**2*x[3])"
      ]
     },
     "metadata": {},
     "output_type": "display_data"
    },
    {
     "data": {
      "text/latex": [
       "$\\left(h^{2} + 1\\right) {y}_{4} - {y}_{3} = h^{2} {x}_{4} + h$"
      ],
      "text/plain": [
       "Eq((h**2 + 1)*y[4] - y[3], h**2*x[4] + h)"
      ]
     },
     "metadata": {},
     "output_type": "display_data"
    }
   ],
   "source": [
    "n = len(xv)-1\n",
    "eq[1] = ponto1(yv, eq, 1)\n",
    "eq[n] = eqF(eq, y1,ylregr)\n",
    "\n",
    "for k in range(1, len(eq)):\n",
    "    display(eq[k])"
   ]
  },
  {
   "cell_type": "markdown",
   "metadata": {},
   "source": [
    "#COLOCANDO NA MATRIZ"
   ]
  },
  {
   "cell_type": "code",
   "execution_count": 33,
   "metadata": {},
   "outputs": [
    {
     "data": {
      "text/latex": [
       "$\\displaystyle \\left[\\begin{matrix}h^{2} + 2.0 & -1 & 0 & 0\\\\-1 & h^{2} + 2 & -1 & 0\\\\0 & -1 & h^{2} + 2 & -1\\\\0 & 0 & -1 & h^{2} + 1\\end{matrix}\\right]$"
      ],
      "text/plain": [
       "Matrix([\n",
       "[h**2 + 2.0,       -1,        0,        0],\n",
       "[        -1, h**2 + 2,       -1,        0],\n",
       "[         0,       -1, h**2 + 2,       -1],\n",
       "[         0,        0,       -1, h**2 + 1]])"
      ]
     },
     "metadata": {},
     "output_type": "display_data"
    },
    {
     "data": {
      "text/latex": [
       "$\\displaystyle \\left[\\begin{matrix}h^{2} {x}_{1} + 1\\\\h^{2} {x}_{2}\\\\h^{2} {x}_{3}\\\\h^{2} {x}_{4} + h\\end{matrix}\\right]$"
      ],
      "text/plain": [
       "Matrix([\n",
       "[h**2*x[1] + 1],\n",
       "[    h**2*x[2]],\n",
       "[    h**2*x[3]],\n",
       "[h**2*x[4] + h]])"
      ]
     },
     "metadata": {},
     "output_type": "display_data"
    }
   ],
   "source": [
    "Ar, Br= matriz(eq)\n",
    "display(Matrix(Ar))\n",
    "display(Matrix(Br))"
   ]
  },
  {
   "cell_type": "code",
   "execution_count": 34,
   "metadata": {},
   "outputs": [
    {
     "name": "stdout",
     "output_type": "stream",
     "text": [
      "Matriz Aumentada\n"
     ]
    },
    {
     "data": {
      "text/latex": [
       "$\\displaystyle \\left[\\begin{matrix}2.0625 & -1 & 0 & 0 & 1.015625\\\\-1 & 2.0625 & -1 & 0 & 0.03125\\\\0 & -1 & 2.0625 & -1 & 0.046875\\\\0 & 0 & -1 & 1.0625 & 0.3125\\end{matrix}\\right]$"
      ],
      "text/plain": [
       "Matrix([\n",
       "[2.0625,     -1,      0,      0, 1.015625],\n",
       "[    -1, 2.0625,     -1,      0,  0.03125],\n",
       "[     0,     -1, 2.0625,     -1, 0.046875],\n",
       "[     0,      0,     -1, 1.0625,   0.3125]])"
      ]
     },
     "metadata": {},
     "output_type": "display_data"
    }
   ],
   "source": [
    "matrizRobin = matriz_aumentada(Ar,Br,xv)\n",
    "print(\"Matriz Aumentada\")\n",
    "display(Matrix(matrizRobin))"
   ]
  },
  {
   "cell_type": "code",
   "execution_count": 35,
   "metadata": {},
   "outputs": [
    {
     "name": "stdout",
     "output_type": "stream",
     "text": [
      "SOLUÇÃO ROBIN\n",
      "x 1 = 0.5318\n",
      "x 2 = 0.0812\n",
      "x 3 = 0.0656\n",
      "x 4 = 0.0\n"
     ]
    }
   ],
   "source": [
    "from thomas_system_solve import thomas\n",
    "print(\"SOLUÇÃO ROBIN\")\n",
    "thomas(matrizRobin)\n"
   ]
  },
  {
   "cell_type": "markdown",
   "metadata": {},
   "source": [
    "# Aplicando para Dirichlet\n",
    "2 pontos\n",
    "\n",
    "Substituindo o valor de y{0} e y{1}:"
   ]
  },
  {
   "cell_type": "code",
   "execution_count": 36,
   "metadata": {},
   "outputs": [
    {
     "name": "stdout",
     "output_type": "stream",
     "text": [
      "SOLUÇÃO DIRICHLET\n",
      "x 1 = 0.5318\n",
      "x 2 = 0.0812\n",
      "x 3 = 0.0656\n",
      "x 4 = 0.0\n"
     ]
    }
   ],
   "source": [
    "eq = criaEq(eq_geral) #zerando as equações\n",
    "n = len(xv)-1\n",
    "eq[1] = ponto1(yv, eq, 1)\n",
    "eq[n] = ponto2(yv, eq,yv[n])\n",
    "\n",
    "Ad, Bd= matriz(eq)\n",
    "\n",
    "matrizDirichlet = matriz_aumentada(Ad,Bd,xv)\n",
    "print(\"SOLUÇÃO DIRICHLET\")\n",
    "thomas(matrizDirichlet)    \n",
    "    "
   ]
  },
  {
   "cell_type": "markdown",
   "metadata": {},
   "source": [
    "# Aplicando para Newman\n",
    "2 derivadas\n"
   ]
  },
  {
   "cell_type": "code",
   "execution_count": 37,
   "metadata": {},
   "outputs": [
    {
     "name": "stdout",
     "output_type": "stream",
     "text": [
      "SOLUÇÃO NEWMAN\n",
      "x 1 = 0.3697\n",
      "x 2 = 0.1272\n",
      "x 3 = 0.0801\n",
      "x 4 = 0.0\n"
     ]
    }
   ],
   "source": [
    "eq = criaEq(eq_geral) #zerando as equações\n",
    "n = len(xv)-1\n",
    "eq[1] = eq1(eq, y0,ylprog)\n",
    "eq[n] = eqF(eq, y1,ylregr)\n",
    "\n",
    "An, Bn= matriz(eq)\n",
    "\n",
    "matrizNewman = matriz_aumentada(An,Bn,xv)\n",
    "print(\"SOLUÇÃO NEWMAN\")\n",
    "thomas(matrizNewman)  "
   ]
  },
  {
   "cell_type": "markdown",
   "metadata": {},
   "source": [
    "# MOSTRANDO OS RESULTADOS DOS 3 MÉTODOS"
   ]
  },
  {
   "cell_type": "code",
   "execution_count": 38,
   "metadata": {},
   "outputs": [
    {
     "name": "stdout",
     "output_type": "stream",
     "text": [
      "----------------- ROBIN ------------------------\n"
     ]
    },
    {
     "data": {
      "text/latex": [
       "$\\displaystyle \\left[\\begin{matrix}h^{2} + 2.0 & -1 & 0 & 0\\\\-1 & h^{2} + 2 & -1 & 0\\\\0 & -1 & h^{2} + 2 & -1\\\\0 & 0 & -1 & h^{2} + 1\\end{matrix}\\right]$"
      ],
      "text/plain": [
       "Matrix([\n",
       "[h**2 + 2.0,       -1,        0,        0],\n",
       "[        -1, h**2 + 2,       -1,        0],\n",
       "[         0,       -1, h**2 + 2,       -1],\n",
       "[         0,        0,       -1, h**2 + 1]])"
      ]
     },
     "metadata": {},
     "output_type": "display_data"
    },
    {
     "data": {
      "text/latex": [
       "$\\displaystyle \\left[\\begin{matrix}h^{2} {x}_{1} + 1\\\\h^{2} {x}_{2}\\\\h^{2} {x}_{3}\\\\h^{2} {x}_{4} + h\\end{matrix}\\right]$"
      ],
      "text/plain": [
       "Matrix([\n",
       "[h**2*x[1] + 1],\n",
       "[    h**2*x[2]],\n",
       "[    h**2*x[3]],\n",
       "[h**2*x[4] + h]])"
      ]
     },
     "metadata": {},
     "output_type": "display_data"
    },
    {
     "name": "stdout",
     "output_type": "stream",
     "text": [
      "x 1 = 0.5318\n",
      "x 2 = 0.0812\n",
      "x 3 = 0.0656\n",
      "x 4 = 0.0\n",
      "----------------- DIRICHLET ------------------------\n"
     ]
    },
    {
     "data": {
      "text/latex": [
       "$\\displaystyle \\left[\\begin{matrix}h^{2} + 2.0 & -1 & 0 & 0\\\\-1 & h^{2} + 2.0 & -1 & 0\\\\0 & -1 & h^{2} + 2.0 & -1\\\\0 & 0 & -1 & h^{2} + 2.0\\end{matrix}\\right]$"
      ],
      "text/plain": [
       "Matrix([\n",
       "[h**2 + 2.0,         -1,          0,          0],\n",
       "[        -1, h**2 + 2.0,         -1,          0],\n",
       "[         0,         -1, h**2 + 2.0,         -1],\n",
       "[         0,          0,         -1, h**2 + 2.0]])"
      ]
     },
     "metadata": {},
     "output_type": "display_data"
    },
    {
     "data": {
      "text/latex": [
       "$\\displaystyle \\left[\\begin{matrix}h^{2} {x}_{1} + 1.0\\\\h^{2} {x}_{2}\\\\h^{2} {x}_{3}\\\\h^{2} {x}_{4} - 1\\end{matrix}\\right]$"
      ],
      "text/plain": [
       "Matrix([\n",
       "[h**2*x[1] + 1.0],\n",
       "[      h**2*x[2]],\n",
       "[      h**2*x[3]],\n",
       "[  h**2*x[4] - 1]])"
      ]
     },
     "metadata": {},
     "output_type": "display_data"
    },
    {
     "name": "stdout",
     "output_type": "stream",
     "text": [
      "x 1 = 0.5318\n",
      "x 2 = 0.0812\n",
      "x 3 = 0.0656\n",
      "x 4 = 0.0\n",
      "----------------- NEWMAN ------------------------\n"
     ]
    },
    {
     "data": {
      "text/latex": [
       "$\\displaystyle \\left[\\begin{matrix}h^{2} + 1 & -1 & 0 & 0\\\\-1 & h^{2} + 2 & -1 & 0\\\\0 & -1 & h^{2} + 2 & -1\\\\0 & 0 & -1 & h^{2} + 1\\end{matrix}\\right]$"
      ],
      "text/plain": [
       "Matrix([\n",
       "[h**2 + 1,       -1,        0,        0],\n",
       "[      -1, h**2 + 2,       -1,        0],\n",
       "[       0,       -1, h**2 + 2,       -1],\n",
       "[       0,        0,       -1, h**2 + 1]])"
      ]
     },
     "metadata": {},
     "output_type": "display_data"
    },
    {
     "data": {
      "text/latex": [
       "$\\displaystyle \\left[\\begin{matrix}h^{2} {x}_{1} + h\\\\h^{2} {x}_{2}\\\\h^{2} {x}_{3}\\\\h^{2} {x}_{4} + h\\end{matrix}\\right]$"
      ],
      "text/plain": [
       "Matrix([\n",
       "[h**2*x[1] + h],\n",
       "[    h**2*x[2]],\n",
       "[    h**2*x[3]],\n",
       "[h**2*x[4] + h]])"
      ]
     },
     "metadata": {},
     "output_type": "display_data"
    },
    {
     "name": "stdout",
     "output_type": "stream",
     "text": [
      "x 1 = 0.3697\n",
      "x 2 = 0.1272\n",
      "x 3 = 0.0801\n",
      "x 4 = 0.0\n"
     ]
    }
   ],
   "source": [
    "print(\"----------------- ROBIN ------------------------\")\n",
    "\n",
    "display(Matrix(Ar))\n",
    "display(Matrix(Br))\n",
    "thomas(matrizRobin)  \n",
    "\n",
    "print(\"----------------- DIRICHLET ------------------------\")\n",
    "\n",
    "display(Matrix(Ad))\n",
    "display(Matrix(Bd))\n",
    "thomas(matrizDirichlet)  \n",
    "\n",
    "print(\"----------------- NEWMAN ------------------------\")\n",
    "\n",
    "display(Matrix(An))\n",
    "display(Matrix(Bn))\n",
    "thomas(matrizNewman)  "
   ]
  }
 ],
 "metadata": {
  "kernelspec": {
   "display_name": "Python 3",
   "language": "python",
   "name": "python3"
  },
  "language_info": {
   "codemirror_mode": {
    "name": "ipython",
    "version": 3
   },
   "file_extension": ".py",
   "mimetype": "text/x-python",
   "name": "python",
   "nbconvert_exporter": "python",
   "pygments_lexer": "ipython3",
   "version": "3.12.2"
  }
 },
 "nbformat": 4,
 "nbformat_minor": 2
}
