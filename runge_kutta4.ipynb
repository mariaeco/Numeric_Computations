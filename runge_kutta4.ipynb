{
 "cells": [
  {
   "cell_type": "markdown",
   "metadata": {},
   "source": [
    "#IMPLENTAÇÃO DO MÉTODO RUNGE-KUTTA DE 4ª ORDEM para 1 EDO\n",
    "\n",
    "Parâmetros de entrada:\n",
    "\n",
    "a, b --> intervalo\n",
    "\n",
    "m --> quantidade de subintervalos\n",
    "\n",
    "y0 --> y inicial\n",
    "\n",
    "fxy --> função"
   ]
  },
  {
   "cell_type": "code",
   "execution_count": 148,
   "metadata": {},
   "outputs": [],
   "source": [
    "#definindo a função\n",
    "def fxy(x, y):\n",
    "    ylinha =  x-2*y+1\n",
    "    return ylinha\n",
    "\n",
    "#Função Runge-Kutta 4ª ordem para 1 equação\n",
    "def rungeKutta4(a, b, m, y0):\n",
    "    xi = [] #vetores para armazenamento dos resultados\n",
    "    yi = [] #vetores para armazenamento dos resultados\n",
    "    \n",
    "    h = (b-a)/m\n",
    "    xk = a\n",
    "    yk = y0\n",
    "    xi.append(xk)\n",
    "    yi.append(yk)\n",
    "    \n",
    "    for i in range(m):\n",
    "        x = xk\n",
    "        y = yk\n",
    "        \n",
    "        k1 = fxy(x, y)\n",
    "        \n",
    "        x = xk + (h/2)\n",
    "        y = yk + (h/2) * k1\n",
    "        k2 = fxy(x, y)\n",
    "        \n",
    "        y = yk + (h/2) * k2\n",
    "        k3 = fxy(x, y)\n",
    "        x = xk + h\n",
    "        y = yk + h*k3\n",
    "        \n",
    "        k4 = fxy(x, y)\n",
    "        yk = yk + (h/6) * (k1 + 2*(k2+k3)+k4)\n",
    "        \n",
    "        xk += h\n",
    "        xk =  round(xk,3)\n",
    "        xi.append(xk)\n",
    "        yi.append(round(yk, 5))\n",
    "        \n",
    "    print(\"Solução Runge-Kutta ordem 4:\")\n",
    "    print(\"{:<5}    {:<6}   {:<8}\".format(\"i\",\"x\", \"y\"))\n",
    "    for i in range(m):\n",
    "        print(\"{:<5} | {:<6} | {:<8}|\".format(i, xi[i], round(yi[i], 5)))\n",
    "              \n",
    "    return xi, yi\n"
   ]
  },
  {
   "cell_type": "code",
   "execution_count": 149,
   "metadata": {},
   "outputs": [
    {
     "name": "stdout",
     "output_type": "stream",
     "text": [
      "Solução Runge-Kutta ordem 4:\n",
      "i        x        y       \n",
      "0     | 0      | 1       |\n",
      "1     | 0.1    | 0.91405 |\n",
      "2     | 0.2    | 0.85274 |\n",
      "3     | 0.3    | 0.81161 |\n",
      "4     | 0.4    | 0.787   |\n",
      "5     | 0.5    | 0.77591 |\n",
      "6     | 0.6    | 0.7759  |\n",
      "7     | 0.7    | 0.78495 |\n",
      "8     | 0.8    | 0.80143 |\n",
      "9     | 0.9    | 0.82398 |\n"
     ]
    }
   ],
   "source": [
    "#parametros de entrada\n",
    "a = 0\n",
    "b = 1\n",
    "m = 10\n",
    "y0=1\n",
    "\n",
    "rungeKutta4(a, b, m, y0);"
   ]
  },
  {
   "cell_type": "markdown",
   "metadata": {},
   "source": [
    "#IMPLENTAÇÃO DO MÉTODO RUNGE-KUTTA DE 4ª ORDEM para 2 EDOs\n",
    "\n",
    "Parâmetros de entrada:\n",
    "\n",
    "a, b --> intervalo\n",
    "\n",
    "m --> quantidade de subintervalos\n",
    "\n",
    "y1 --> y inicial para EDO 1\n",
    "\n",
    "y2 --> y inicial para EDO 2\n",
    "\n",
    "fxyy --> função"
   ]
  },
  {
   "cell_type": "code",
   "execution_count": 150,
   "metadata": {},
   "outputs": [],
   "source": [
    "#definindo a função\n",
    "def fxyy(x, y1, y2):\n",
    "    ylinha1 = y1 + y2 + 3*x\n",
    "    ylinha2 = 2*y1 - y2 - x\n",
    "    return ylinha1, ylinha2\n",
    "\n",
    "#Função Runge-Kutta 4ª ordem para 1 equação\n",
    "def rungeKutta42(a, b, m, y1, y2):\n",
    "    xi = [] #vetores para armazenamento dos resultados\n",
    "    yi1 = [] #vetores para armazenamento dos resultados\n",
    "    yi2 = [] #vetores para armazenamento dos resultados\n",
    "    \n",
    "    h = (b-a)/m\n",
    "    xk = a\n",
    "    yk1 = y1\n",
    "    yk2 = y2\n",
    "    xi.append(xk)\n",
    "    yi1.append(yk1)\n",
    "    yi2.append(yk2)\n",
    "    \n",
    "    for i in range(0, m+1):\n",
    "        x = xk\n",
    "        y1 = yk1\n",
    "        y2 = yk2\n",
    "        \n",
    "        k11, k12 = fxyy(x, y1, y2)\n",
    "        \n",
    "        x = xk + (h/2)\n",
    "        y1 = yk1 + (h/2) * k11\n",
    "        y2 = yk2 + (h/2) * k12\n",
    "        k21, k22 = fxyy(x, y1, y2)\n",
    "        \n",
    "        y1 = yk1 + (h/2) * k21\n",
    "        y2 = yk2 + (h/2) * k22\n",
    "        k31, k32 = fxyy(x, y1, y2)\n",
    "\n",
    "        x = xk + h\n",
    "        y1 = yk1 + h*k31\n",
    "        y2 = yk2 + h*k32\n",
    "        k41, k42 = fxyy(x, y1, y2)\n",
    "        \n",
    "        yk1 = yk1 + (h/6) * (k11 + 2*(k21+k31)+k41)\n",
    "        yk2 = yk2 + (h/6) * (k12 + 2*(k22+k32)+k42)\n",
    "        \n",
    "        xk += h\n",
    "        xk =  round(xk,3)\n",
    "        xi.append(xk)\n",
    "        yi1.append(round(yk1, 5))\n",
    "        yi2.append(round(yk2, 5))\n",
    "        \n",
    "    print(\"Solução Runge-Kutta ordem 4:\")\n",
    "    print(\"{:<5}    {:<6}     {:<8}    {:<8}\".format(\"i\",\"x\", \"y1\", \"y2\"))\n",
    "    for i in range(m+1):\n",
    "        print(\"{:<5} | {:<6} | {:<8}  | {:<8}|\".format(i, xi[i], round(yi1[i], 4), round(yi2[i], 4)))\n",
    "              \n",
    "    return xi, yi1, yi2"
   ]
  },
  {
   "cell_type": "code",
   "execution_count": 151,
   "metadata": {},
   "outputs": [
    {
     "name": "stdout",
     "output_type": "stream",
     "text": [
      "Solução Runge-Kutta ordem 4:\n",
      "i        x          y1          y2      \n",
      "0     | 0      | 0         | -1      |\n",
      "1     | 0.2    | -0.1407   | -0.8675 |\n",
      "2     | 0.4    | -0.1612   | -0.8239 |\n",
      "3     | 0.6    | -0.0477   | -0.8074 |\n",
      "4     | 0.8    | 0.2297    | -0.7595 |\n",
      "5     | 1.0    | 0.7207    | -0.6178 |\n",
      "6     | 1.2    | 1.5011    | -0.3086 |\n",
      "7     | 1.4    | 2.6814    | 0.2621  |\n",
      "8     | 1.6    | 4.421     | 1.22    |\n",
      "9     | 1.8    | 6.9468    | 2.7378  |\n",
      "10    | 2.0    | 10.581    | 5.0559  |\n"
     ]
    }
   ],
   "source": [
    "#parametros de entrada\n",
    "a = 0\n",
    "b = 2\n",
    "m = 10\n",
    "y01=0\n",
    "y02= -1\n",
    "\n",
    "rungeKutta42(a, b, m, y01, y02);"
   ]
  }
 ],
 "metadata": {
  "kernelspec": {
   "display_name": "Python 3",
   "language": "python",
   "name": "python3"
  },
  "language_info": {
   "codemirror_mode": {
    "name": "ipython",
    "version": 3
   },
   "file_extension": ".py",
   "mimetype": "text/x-python",
   "name": "python",
   "nbconvert_exporter": "python",
   "pygments_lexer": "ipython3",
   "version": "3.12.2"
  }
 },
 "nbformat": 4,
 "nbformat_minor": 2
}
