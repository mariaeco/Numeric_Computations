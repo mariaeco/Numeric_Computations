{
 "cells": [
  {
   "cell_type": "markdown",
   "metadata": {},
   "source": [
    "# **METÓDOS DAS DIFERENÇAS FINITAS DIRICHLET** \n",
    "\n",
    "PROBLEMAS DE CONTORNO\n"
   ]
  },
  {
   "cell_type": "code",
   "execution_count": 1,
   "metadata": {},
   "outputs": [],
   "source": [
    "from sympy import symbols, IndexedBase, Sum, Eqn, simplify, nan\n",
    "import numpy as np\n",
    "from algebra_with_sympy import *\n"
   ]
  },
  {
   "cell_type": "code",
   "execution_count": 2,
   "metadata": {},
   "outputs": [
    {
     "data": {
      "text/latex": [
       "${y}_{i}=\\frac{{y}_{i + 1} + {y}_{i - 1} - 2 {y}_{i}}{h^{2}}\\,\\,\\,\\,\\,\\,\\,\\,\\,\\,(\\text{yll})$"
      ],
      "text/plain": [
       "Equation(y[i], (y[i + 1] + y[i - 1] - 2*y[i])/h**2)"
      ]
     },
     "metadata": {},
     "output_type": "display_data"
    },
    {
     "data": {
      "text/latex": [
       "${y}_{i}=\\frac{{y}_{i + 1} - {y}_{i}}{h}\\,\\,\\,\\,\\,\\,\\,\\,\\,\\,(\\text{ylprog})$"
      ],
      "text/plain": [
       "Equation(y[i], (y[i + 1] - y[i])/h)"
      ]
     },
     "metadata": {},
     "output_type": "display_data"
    },
    {
     "data": {
      "text/latex": [
       "${y}_{i}=\\frac{- {y}_{i - 1} + {y}_{i}}{h}\\,\\,\\,\\,\\,\\,\\,\\,\\,\\,(\\text{ylregr})$"
      ],
      "text/plain": [
       "Equation(y[i], (-y[i - 1] + y[i])/h)"
      ]
     },
     "metadata": {},
     "output_type": "display_data"
    },
    {
     "data": {
      "text/latex": [
       "${y}_{i}=\\frac{{y}_{i + 1} - {y}_{i - 1}}{2 h}\\,\\,\\,\\,\\,\\,\\,\\,\\,\\,(\\text{ylcent})$"
      ],
      "text/plain": [
       "Equation(y[i], (y[i + 1] - y[i - 1])/(2*h))"
      ]
     },
     "metadata": {},
     "output_type": "display_data"
    }
   ],
   "source": [
    "i, h, z = symbols('i h z')\n",
    "y = IndexedBase('y')\n",
    "x = IndexedBase('x')\n",
    "\n",
    "yll = Eqn(y[i] ,(y[i+1]-2*y[i]+y[i-1])/(h**2)) \n",
    "ylprog = Eqn(y[i],((y[i+1]-y[i])/h))\n",
    "ylregr = Eqn(y[i],((y[i]-y[i-1])/h))\n",
    "ylcent = Eqn(y[i],((y[i+1]-y[i-1])/(2*h)))\n",
    "\n",
    "display(yll, ylprog, ylregr, ylcent)\n"
   ]
  },
  {
   "cell_type": "markdown",
   "metadata": {},
   "source": [
    "**Discretizando**"
   ]
  },
  {
   "cell_type": "code",
   "execution_count": 3,
   "metadata": {},
   "outputs": [
    {
     "data": {
      "text/latex": [
       "$\\left(h^{2} + 2\\right) {y}_{i} - {y}_{i + 1} - {y}_{i - 1} = h^{2} {x}_{i}$"
      ],
      "text/plain": [
       "Eq((h**2 + 2)*y[i] - y[i + 1] - y[i - 1], h**2*x[i])"
      ]
     },
     "execution_count": 3,
     "metadata": {},
     "output_type": "execute_result"
    }
   ],
   "source": [
    "edo = Eqn(-yll.rhs + y[i], x[i])  #pegando o lado direito da equação yll e aplicando na função\n",
    "edo = simplify(edo)*h**2\n",
    "# Agrupando os elementos em comum\n",
    "common_y_terms = edo.lhs.collect(y[i])\n",
    "remaining_terms = edo.rhs\n",
    "\n",
    "# Equação discretizada final\n",
    "grouped_equation = Eq(common_y_terms, remaining_terms)\n",
    "grouped_equation"
   ]
  },
  {
   "cell_type": "markdown",
   "metadata": {},
   "source": [
    "# Condição de Dirichlet\n",
    "Tenho aqui o meu vetor com h=0.25\n",
    "| i |  x  | y |\n",
    "| --- | --- | --- |\n",
    "| 0 | 0.00 |  1  |\n",
    "| 1 | 0.25 |     |\n",
    "| 2 | 0.50 |     |\n",
    "| 3 | 0.75 |     |\n",
    "| 4 | 1.00 |     |\n",
    "| 5 | 1.25 | -1  |\n",
    "\n",
    "E, dado:\n",
    "y(0) = 1   e   y(1.25) = -1"
   ]
  },
  {
   "cell_type": "code",
   "execution_count": 4,
   "metadata": {},
   "outputs": [],
   "source": [
    "#Meus vetores\n",
    "xv  = [0, 0.25, 0.50, 0.75, 1, 1.25]\n",
    "yv  = [1, nan, nan, nan, nan,-1]"
   ]
  },
  {
   "cell_type": "code",
   "execution_count": 5,
   "metadata": {},
   "outputs": [
    {
     "data": {
      "text/latex": [
       "$\\left(h^{2} + 2\\right) {y}_{1} - {y}_{0} - {y}_{2} = h^{2} {x}_{1}$"
      ],
      "text/plain": [
       "Eq((h**2 + 2)*y[1] - y[0] - y[2], h**2*x[1])"
      ]
     },
     "metadata": {},
     "output_type": "display_data"
    },
    {
     "data": {
      "text/latex": [
       "$\\left(h^{2} + 2\\right) {y}_{2} - {y}_{1} - {y}_{3} = h^{2} {x}_{2}$"
      ],
      "text/plain": [
       "Eq((h**2 + 2)*y[2] - y[1] - y[3], h**2*x[2])"
      ]
     },
     "metadata": {},
     "output_type": "display_data"
    },
    {
     "data": {
      "text/latex": [
       "$\\left(h^{2} + 2\\right) {y}_{3} - {y}_{2} - {y}_{4} = h^{2} {x}_{3}$"
      ],
      "text/plain": [
       "Eq((h**2 + 2)*y[3] - y[2] - y[4], h**2*x[3])"
      ]
     },
     "metadata": {},
     "output_type": "display_data"
    },
    {
     "data": {
      "text/latex": [
       "$\\left(h^{2} + 2\\right) {y}_{4} - {y}_{3} - {y}_{5} = h^{2} {x}_{4}$"
      ],
      "text/plain": [
       "Eq((h**2 + 2)*y[4] - y[3] - y[5], h**2*x[4])"
      ]
     },
     "metadata": {},
     "output_type": "display_data"
    }
   ],
   "source": [
    "n=len(xv)-1\n",
    "eq = {}\n",
    "for k in range(1,n):\n",
    "    equation = grouped_equation.subs(i, k)\n",
    "    eq[k] = equation\n",
    "    display(eq[k])\n",
    "\n",
    "    \n"
   ]
  },
  {
   "cell_type": "markdown",
   "metadata": {},
   "source": [
    "Substituindo o valor de y{0}:"
   ]
  },
  {
   "cell_type": "code",
   "execution_count": 6,
   "metadata": {},
   "outputs": [
    {
     "data": {
      "text/latex": [
       "$\\left(h^{2} + 2.0\\right) {y}_{1} - {y}_{2} = h^{2} {x}_{1} + 1$"
      ],
      "text/plain": [
       "Eq((h**2 + 2.0)*y[1] - y[2], h**2*x[1] + 1)"
      ]
     },
     "metadata": {},
     "output_type": "display_data"
    },
    {
     "data": {
      "text/latex": [
       "$\\left(h^{2} + 2.0\\right) {y}_{2} - {y}_{1} - {y}_{3} = h^{2} {x}_{2}$"
      ],
      "text/plain": [
       "Eq((h**2 + 2.0)*y[2] - y[1] - y[3], h**2*x[2])"
      ]
     },
     "metadata": {},
     "output_type": "display_data"
    },
    {
     "data": {
      "text/latex": [
       "$\\left(h^{2} + 2.0\\right) {y}_{3} - {y}_{2} - {y}_{4} = h^{2} {x}_{3}$"
      ],
      "text/plain": [
       "Eq((h**2 + 2.0)*y[3] - y[2] - y[4], h**2*x[3])"
      ]
     },
     "metadata": {},
     "output_type": "display_data"
    },
    {
     "data": {
      "text/latex": [
       "$\\left(h^{2} + 2.0\\right) {y}_{4} - {y}_{3} - {y}_{5} = h^{2} {x}_{4}$"
      ],
      "text/plain": [
       "Eq((h**2 + 2.0)*y[4] - y[3] - y[5], h**2*x[4])"
      ]
     },
     "metadata": {},
     "output_type": "display_data"
    }
   ],
   "source": [
    "z = yv[0] #valor inicial y0 que temos\n",
    "for k in range(1, len(eq)+1):\n",
    "    eq[k] = eq[k].evalf(4, subs={y[0]: z})\n",
    "    \n",
    "\n",
    "#Colocando o valor y0 para o outro lado da equação\n",
    "#Neste caso só preciso mudar a primeira Equação\n",
    "common_y_terms = eq[1].lhs.collect(y[i])\n",
    "remaining_terms = eq[1].rhs\n",
    "eq[1] = Eq(common_y_terms + z, remaining_terms+z) #aqui estou jogando o valor de y0 para o outro lado\n",
    "\n",
    "\n",
    "for k in range(1, len(eq)+1):\n",
    "    display(eq[k])"
   ]
  },
  {
   "cell_type": "markdown",
   "metadata": {},
   "source": [
    "Substituindo o valor de y{n}:"
   ]
  },
  {
   "cell_type": "code",
   "execution_count": 7,
   "metadata": {},
   "outputs": [
    {
     "data": {
      "text/latex": [
       "$\\left(h^{2} + 2.0\\right) {y}_{1} - {y}_{2} = h^{2} {x}_{1} + 1.0$"
      ],
      "text/plain": [
       "Eq((h**2 + 2.0)*y[1] - y[2], h**2*x[1] + 1.0)"
      ]
     },
     "metadata": {},
     "output_type": "display_data"
    },
    {
     "data": {
      "text/latex": [
       "$\\left(h^{2} + 2.0\\right) {y}_{2} - {y}_{1} - {y}_{3} = h^{2} {x}_{2}$"
      ],
      "text/plain": [
       "Eq((h**2 + 2.0)*y[2] - y[1] - y[3], h**2*x[2])"
      ]
     },
     "metadata": {},
     "output_type": "display_data"
    },
    {
     "data": {
      "text/latex": [
       "$\\left(h^{2} + 2.0\\right) {y}_{3} - {y}_{2} - {y}_{4} = h^{2} {x}_{3}$"
      ],
      "text/plain": [
       "Eq((h**2 + 2.0)*y[3] - y[2] - y[4], h**2*x[3])"
      ]
     },
     "metadata": {},
     "output_type": "display_data"
    },
    {
     "data": {
      "text/latex": [
       "$\\left(h^{2} + 2.0\\right) {y}_{4} - {y}_{3} = h^{2} {x}_{4} - 1$"
      ],
      "text/plain": [
       "Eq((h**2 + 2.0)*y[4] - y[3], h**2*x[4] - 1)"
      ]
     },
     "metadata": {},
     "output_type": "display_data"
    }
   ],
   "source": [
    "size = len(yv)-1\n",
    "z = yv[size] #valor inicial y0 que temos\n",
    "for k in range(1, len(eq)+1):\n",
    "    eq[k] = eq[k].evalf(4, subs={y[size]: z})\n",
    "    \n",
    "\n",
    "#Colocando o valor y0 para o outro lado da equação\n",
    "#Neste caso só preciso mudar a primeira Equação\n",
    "common_y_terms = eq[k].lhs.collect(y[i])\n",
    "remaining_terms = eq[k].rhs\n",
    "eq[k] = Eq(common_y_terms + z, remaining_terms+z) #aqui estou jogando o valor de y0 para o outro lado\n",
    "\n",
    "\n",
    "for k in range(1, len(eq)+1):\n",
    "    display(eq[k])"
   ]
  },
  {
   "cell_type": "code",
   "execution_count": 8,
   "metadata": {},
   "outputs": [],
   "source": [
    "matrix = [[0 for _ in range(n-1)] for _ in range(n-1)]\n",
    "matrix\n",
    "for i in range(1,n):\n",
    "   # print(\"Eq \", i, \"---------------\")\n",
    "    for j in range(len(eq[i].args[0].args)): #len(eq[2].args[0].args) é a qtd de y que tenho\n",
    "        if eq[i].args[0].args[j].args[1].args[1] == 1:\n",
    "            matrix[i-1][0] = eq[i].args[0].args[j].args[0]\n",
    "        if eq[i].args[0].args[j].args[1].args[1] == 2:\n",
    "            matrix[i-1][1] = eq[i].args[0].args[j].args[0]\n",
    "        if eq[i].args[0].args[j].args[1].args[1] == 3:\n",
    "            matrix[i-1][2] = eq[i].args[0].args[j].args[0]\n",
    "        if eq[i].args[0].args[j].args[1].args[1] == 4:\n",
    "            matrix[i-1][3] = eq[i].args[0].args[j].args[0]\n",
    "left = []\n",
    "for i in range(1,n):\n",
    "    left.append(eq[i].rhs)\n",
    "    \n",
    "\n"
   ]
  },
  {
   "cell_type": "code",
   "execution_count": 9,
   "metadata": {},
   "outputs": [
    {
     "name": "stdout",
     "output_type": "stream",
     "text": [
      "Meu Sistema DIRICHLET:\n"
     ]
    },
    {
     "data": {
      "text/latex": [
       "$\\displaystyle \\left[\\begin{matrix}h^{2} + 2.0 & -1 & 0 & 0\\\\-1 & h^{2} + 2.0 & -1 & 0\\\\0 & -1 & h^{2} + 2.0 & -1\\\\0 & 0 & -1 & h^{2} + 2.0\\end{matrix}\\right]$"
      ],
      "text/plain": [
       "Matrix([\n",
       "[h**2 + 2.0,         -1,          0,          0],\n",
       "[        -1, h**2 + 2.0,         -1,          0],\n",
       "[         0,         -1, h**2 + 2.0,         -1],\n",
       "[         0,          0,         -1, h**2 + 2.0]])"
      ]
     },
     "metadata": {},
     "output_type": "display_data"
    },
    {
     "data": {
      "text/latex": [
       "$\\displaystyle \\left[\\begin{matrix}h^{2} {x}_{1} + 1.0\\\\h^{2} {x}_{2}\\\\h^{2} {x}_{3}\\\\h^{2} {x}_{4} - 1\\end{matrix}\\right]$"
      ],
      "text/plain": [
       "Matrix([\n",
       "[h**2*x[1] + 1.0],\n",
       "[      h**2*x[2]],\n",
       "[      h**2*x[3]],\n",
       "[  h**2*x[4] - 1]])"
      ]
     },
     "metadata": {},
     "output_type": "display_data"
    },
    {
     "name": "stdout",
     "output_type": "stream",
     "text": [
      "Meu Sistema:\n"
     ]
    },
    {
     "data": {
      "text/latex": [
       "$\\displaystyle \\left[\\begin{matrix}2.0625 & -1 & 0 & 0\\\\-1 & 2.0625 & -1 & 0\\\\0 & -1 & 2.0625 & -1\\\\0 & 0 & -1 & 2.0625\\end{matrix}\\right]$"
      ],
      "text/plain": [
       "Matrix([\n",
       "[2.0625,     -1,      0,      0],\n",
       "[    -1, 2.0625,     -1,      0],\n",
       "[     0,     -1, 2.0625,     -1],\n",
       "[     0,      0,     -1, 2.0625]])"
      ]
     },
     "metadata": {},
     "output_type": "display_data"
    },
    {
     "data": {
      "text/latex": [
       "$\\displaystyle \\left[\\begin{matrix}1.015625\\\\0.03125\\\\0.046875\\\\-0.9375\\end{matrix}\\right]$"
      ],
      "text/plain": [
       "Matrix([\n",
       "[1.015625],\n",
       "[ 0.03125],\n",
       "[0.046875],\n",
       "[ -0.9375]])"
      ]
     },
     "metadata": {},
     "output_type": "display_data"
    }
   ],
   "source": [
    "A = np.array(matrix.copy())\n",
    "for i in range(len(matrix)):\n",
    "    A[i, i] = A[i, i].subs(h, 0.25)\n",
    "\n",
    "B = np.array(left.copy())\n",
    "for i in range(len(matrix)):\n",
    "    B[i] = B[i].subs(h, 0.25)\n",
    "    B[i] = B[i].subs(x[i+1],xv[i+1])\n",
    "\n",
    "matrix_aumentada = np.concatenate((Matrix(A),Matrix(B)), axis=1)\n",
    "\n",
    "\n",
    "print(\"Meu Sistema DIRICHLET:\")\n",
    "display(Matrix(matrix))\n",
    "display(Matrix(left))\n",
    "    \n",
    "print(\"Meu Sistema:\")\n",
    "display(Matrix(A))\n",
    "display(Matrix(B))"
   ]
  },
  {
   "cell_type": "code",
   "execution_count": 10,
   "metadata": {},
   "outputs": [
    {
     "name": "stdout",
     "output_type": "stream",
     "text": [
      "SOLUÇÃO DIRICHLET\n",
      "x 1 = 0.5318\n",
      "x 2 = 0.0812\n",
      "x 3 = 0.0656\n",
      "x 4 = 0.0\n"
     ]
    }
   ],
   "source": [
    "\n",
    "from thomas_system_solve import thomas\n",
    "print(\"SOLUÇÃO DIRICHLET\")\n",
    "thomas(matrix_aumentada)\n"
   ]
  }
 ],
 "metadata": {
  "kernelspec": {
   "display_name": "Python 3",
   "language": "python",
   "name": "python3"
  },
  "language_info": {
   "codemirror_mode": {
    "name": "ipython",
    "version": 3
   },
   "file_extension": ".py",
   "mimetype": "text/x-python",
   "name": "python",
   "nbconvert_exporter": "python",
   "pygments_lexer": "ipython3",
   "version": "3.12.2"
  }
 },
 "nbformat": 4,
 "nbformat_minor": 2
}
