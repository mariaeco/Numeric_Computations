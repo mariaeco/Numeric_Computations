{
  "cells": [
    {
      "attachments": {
        "image-3.png": {
          "image/png": "[encoded data removed]"
        },
        "image-4.png": {
          "image/png": "[encoded data removed]"
        }
      },
      "cell_type": "markdown",
      "metadata": {
        "id": "CRQTzNHrAPec"
      },
      "source": [
        "# Método de Newton\n",
        "\n",
        "MARIA MARCOLINA LIMA CARDOSO\n",
        "\n",
        "Instruções para rodar o código:\n",
        "\n",
        "- Precisa ter instalado as bibliotecas matplotlib e numpy (você pode instala-las da seguintes maneiras):\n",
        "\n",
        "\n",
        "![image-3.png](attachment:image-3.png)\n",
        "![image-4.png](attachment:image-4.png)"
      ]
    },
    {
      "cell_type": "code",
      "execution_count": 6,
      "metadata": {
        "id": "tnhbZ8GaoSN5"
      },
      "outputs": [],
      "source": [
        "import numpy as np\n",
        "import matplotlib.pyplot as plt\n",
        "import math\n",
        "from sympy import init_printing\n",
        "init_printing(use_latex='png', scale=1.05, order='grlex',\n",
        "              forecolor='Black', backcolor='White', fontsize=10)\n",
        "\n",
        "from sympy import diff, Symbol, cos, sin, exp, tan"
      ]
    },
    {
      "cell_type": "code",
      "execution_count": 7,
      "metadata": {
        "id": "y3e0QWynA_ie"
      },
      "outputs": [],
      "source": [
        "x = Symbol('x')\n",
        "def raizNewton(x0, fx, epsilon, MAXINT):\n",
        "\n",
        "    valor_x = x0\n",
        "    f_x = fx.subs(x, valor_x)  # Avaliando fx em x0\n",
        "    print(\"O valor de f(x) em x =\", valor_x, \"é:\", f_x.evalf())\n",
        "\n",
        "    derivada_f= diff(fx, x)\n",
        "    print(\"A derivada da funcao eh: \",derivada_f)\n",
        "    derivada2_f= diff(fx, x, 2)\n",
        "    print(\"A derivada segunda da funcao eh: \",derivada2_f)\n",
        "\n",
        "    der1 = derivada_f.subs(x, valor_x)\n",
        "    der2 = derivada2_f.subs(x, valor_x)\n",
        "\n",
        "    if(der1 != 0 and der2 != 0): # a segunda derivada serve para testar as condições de convergência\n",
        "        print(\"Derivadas não nulas\")\n",
        "    if(f_x * der2 > 0):\n",
        "        print(\"Eh possivel encontrar pelo metodo de Newton\")\n",
        "    else:\n",
        "        print(\"NAO eh possivel encontrar pelo metodo de Newton\")\n",
        "\n",
        "\n",
        "\n",
        "    print(\"{:<5} | {:<8} | {:<6} |{:<6} | {:<6} |\".format(\"int\", \"xk\",\"f(x) \", \"f'(x)\" , \"erro\"))\n",
        "    print(\"----+---------+-------+-------+-------\")\n",
        "    f_x0 = []\n",
        "    derivada_x0 = []\n",
        "\n",
        "    erro = 1\n",
        "    itr=0\n",
        "\n",
        "    while erro > epsilon and itr < MAXINT:\n",
        "        print(\"{:<5} | {:<8} |{:<6} | {:<6} | {:<6} |\".format(itr, round(x0, 3), round(f_x.evalf(), 3), round(der1.evalf(), 3), round(erro, 3)))\n",
        "\n",
        "        x1 = x0 - (f_x/der1).evalf()\n",
        "        erro = abs(x1-x0)\n",
        "\n",
        "        f_x = fx.subs(x, x1)  # Avaliando fx em x\n",
        "        der1 = derivada_f.subs(x, x1)\n",
        "        x0 = x1.evalf()\n",
        "\n",
        "        itr = itr+1\n",
        "\n",
        "    print(\"A raiz eh:\",x0)"
      ]
    },
    {
      "cell_type": "code",
      "execution_count": 8,
      "metadata": {
        "colab": {
          "base_uri": "https://localhost:8080/"
        },
        "id": "9LXT0NMqDwB0",
        "outputId": "d8992360-390d-4076-868a-8edc9174c090"
      },
      "outputs": [
        {
          "name": "stdout",
          "output_type": "stream",
          "text": [
            "-exp(x) + 4.0*cos(x)\n",
            "O valor de f(x) em x = 1 é: -0.557072604986486\n",
            "A derivada da funcao eh:  -exp(x) - 4*sin(x)\n",
            "A derivada segunda da funcao eh:  -(exp(x) + 4*cos(x))\n",
            "Derivadas não nulas\n",
            "Eh possivel encontrar pelo metodo de Newton\n",
            "int   | xk       | f(x)   |f'(x)  | erro   |\n",
            "----+---------+-------+-------+-------\n",
            "0     | 1        |-0.557 | -6.084 | 1      |\n",
            "1     | 0.908    |-0.021 | -5.635 | 0.092  |\n",
            "2     | 0.905    |0.0    | -5.617 | 0.004  |\n",
            "A raiz eh: 0.904788217888045\n"
          ]
        }
      ],
      "source": [
        "f_x = 4*cos(x)-exp(x)\n",
        "print(f_x.evalf())\n",
        "\n",
        "raizNewton(1, f_x, 0.0001, 50)"
      ]
    },
    {
      "cell_type": "code",
      "execution_count": 10,
      "metadata": {
        "colab": {
          "base_uri": "https://localhost:8080/"
        },
        "id": "60YSamGJomBO",
        "outputId": "4602b545-fb43-42f4-f41c-7c15733f5fe2"
      },
      "outputs": [
        {
          "name": "stdout",
          "output_type": "stream",
          "text": [
            "-4.0*x + exp(x)\n",
            "O valor de f(x) em x = 0 é: 1.00000000000000\n",
            "A derivada da funcao eh:  exp(x) - 4\n",
            "A derivada segunda da funcao eh:  exp(x)\n",
            "Derivadas não nulas\n",
            "Eh possivel encontrar pelo metodo de Newton\n",
            "int   | xk       | f(x)   |f'(x)  | erro   |\n",
            "----+---------+-------+-------+-------\n",
            "0     | 0        |1.00000000000000 | -3.00000000000000 | 1      |\n",
            "1     | 0.333    |0.062  | -2.604 | 0.333  |\n",
            "2     | 0.357    |0.0    | -2.571 | 0.024  |\n",
            "3     | 0.357    |0.0    | -2.570 | 0.0    |\n",
            "A raiz eh: 0.357402956181389\n"
          ]
        }
      ],
      "source": [
        "f_x = exp(x)-4*x\n",
        "print(f_x.evalf())\n",
        "\n",
        "raizNewton(0, f_x, 0.000001, 50)"
      ]
    }
  ],
  "metadata": {
    "colab": {
      "provenance": []
    },
    "kernelspec": {
      "display_name": "Python 3",
      "name": "python3"
    },
    "language_info": {
      "codemirror_mode": {
        "name": "ipython",
        "version": 3
      },
      "file_extension": ".py",
      "mimetype": "text/x-python",
      "name": "python",
      "nbconvert_exporter": "python",
      "pygments_lexer": "ipython3",
      "version": "3.12.2"
    }
  },
  "nbformat": 4,
  "nbformat_minor": 0
}
